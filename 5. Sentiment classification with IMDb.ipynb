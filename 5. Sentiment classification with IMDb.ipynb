{
 "cells": [
  {
   "cell_type": "markdown",
   "metadata": {},
   "source": [
    "# IMDb dataset for sentiment classification\n",
    "\n",
    "- 영화 평가 사이트 IMDb의 리뷰를 바탕으로 만들어짐 (http://www.imdb.com/interfaces/)\n",
    "- sentiment classification을 위한 대표적인 벤치마크 데이터\n",
    "- training data와 test data 각각 25,000개의 리뷰가 담겨 있음\n",
    "\n",
    "![](https://iksinc.files.wordpress.com/2015/09/image.png)"
   ]
  },
  {
   "cell_type": "code",
   "execution_count": null,
   "metadata": {},
   "outputs": [],
   "source": []
  },
  {
   "cell_type": "markdown",
   "metadata": {},
   "source": [
    "## Load modules"
   ]
  },
  {
   "cell_type": "code",
   "execution_count": 1,
   "metadata": {},
   "outputs": [],
   "source": [
    "import numpy as np\n",
    "import tensorflow as tf\n",
    "\n",
    "tf.random.set_seed(0)"
   ]
  },
  {
   "cell_type": "code",
   "execution_count": null,
   "metadata": {},
   "outputs": [],
   "source": []
  },
  {
   "cell_type": "markdown",
   "metadata": {},
   "source": [
    "## Load data"
   ]
  },
  {
   "cell_type": "code",
   "execution_count": 2,
   "metadata": {
    "scrolled": true
   },
   "outputs": [
    {
     "name": "stdout",
     "output_type": "stream",
     "text": [
      "Downloading data from https://storage.googleapis.com/tensorflow/tf-keras-datasets/imdb.npz\n",
      "17465344/17464789 [==============================] - 1s 0us/step\n",
      "Training Set:   25000 samples\n",
      "Test Set:       3913 samples\n",
      "\n",
      "An example of sequence and its label:\n",
      "- sequence: [1, 14, 9, 31, 7, 148, 102, 198, 269, 8, 30, 4378, 5, 3094, 5, 305, 630, 56, 2, 32, 120, 410, 260, 110, 12, 33, 6, 2, 22, 1413, 13, 16, 3704, 34, 4, 185, 1170, 2, 825, 355, 901, 56, 190, 120, 32, 1054, 56, 179, 685, 10, 10, 45, 254, 8, 6167, 6, 283, 65, 237, 225, 24, 76, 15, 70, 30, 224, 44, 4, 114, 21, 13, 258, 14, 4229, 3650, 5, 5028, 2279, 45, 465, 5, 220, 2950, 3370, 6, 5503, 948, 3174, 7, 4, 4039, 19, 2, 228, 5, 2, 491, 1969, 12, 43, 152, 157, 49, 139, 121, 38, 954, 15, 305, 7, 2, 4299, 61, 311, 16, 2, 2, 5, 2660, 523, 10, 10, 4, 65, 47, 35, 221, 863, 21, 14, 43, 2, 2, 83, 6, 465, 4309, 7941]\n",
      "- label: 0\n"
     ]
    }
   ],
   "source": [
    "from tensorflow.keras.datasets import imdb\n",
    "\n",
    "maxlen = 200\n",
    "num_words = 8000\n",
    "\n",
    "(X_trn, y_trn), (X_tst, y_tst) = imdb.load_data(\n",
    "    path='imdb.pkl',\n",
    "    num_words=num_words,\n",
    "    skip_top=0,\n",
    "    maxlen=maxlen,\n",
    "    seed=0, #113\n",
    "    start_char=1,\n",
    "    oov_char=2,\n",
    "    index_from=3)\n",
    "\n",
    "print(\"Training Set:   {} samples\".format(len(X_trn)))\n",
    "print(\"Test Set:       {} samples\".format(len(X_tst)))\n",
    "print()\n",
    "print(\"An example of sequence and its label:\")\n",
    "print('- sequence:', X_trn[0])\n",
    "print('- label:', y_trn[0])"
   ]
  },
  {
   "cell_type": "markdown",
   "metadata": {},
   "source": [
    "#### [참고] word indexing"
   ]
  },
  {
   "cell_type": "code",
   "execution_count": 3,
   "metadata": {},
   "outputs": [
    {
     "name": "stdout",
     "output_type": "stream",
     "text": [
      "Downloading data from https://storage.googleapis.com/tensorflow/tf-keras-datasets/imdb_word_index.json\n",
      "1646592/1641221 [==============================] - 0s 0us/step\n",
      "<START> this is one of those movies that's trying to be moody and tense and instead ends up <UNK> all over itself having seen it at a <UNK> film festival i was intrigued by the young college <UNK> gone wrong write up however over all ended up quite disappointed br br it's hard to critique a true story since there's not much that can be done about the plot but i found this disjointed melodramatic and wholly depressing it's dark and almost sinister painting a darn creepy flash of the seventies with <UNK> music and <UNK> close ups it just doesn't work some scenes where so cheesy that instead of <UNK> awe my audience was <UNK> <UNK> and rolling eyes br br the story has an interesting premise but this just <UNK> <UNK> into a dark miserable spiral\n",
      "0\n"
     ]
    }
   ],
   "source": [
    "word_to_id = imdb.get_word_index()\n",
    "word_to_id = {k:(v+3) for k,v in word_to_id.items()}\n",
    "word_to_id[\"<PAD>\"] = 0\n",
    "word_to_id[\"<START>\"] = 1\n",
    "word_to_id[\"<UNK>\"] = 2\n",
    "\n",
    "id_to_word = {value:key for key,value in word_to_id.items()}\n",
    "\n",
    "print(' '.join(id_to_word[i] for i in X_trn[0]))\n",
    "print(y_trn[0])"
   ]
  },
  {
   "cell_type": "code",
   "execution_count": null,
   "metadata": {},
   "outputs": [],
   "source": []
  },
  {
   "cell_type": "markdown",
   "metadata": {},
   "source": [
    "# Preprocess data"
   ]
  },
  {
   "cell_type": "markdown",
   "metadata": {},
   "source": [
    "training set에서 보지 못한 단어를 test set으로부터 삭제"
   ]
  },
  {
   "cell_type": "code",
   "execution_count": 4,
   "metadata": {},
   "outputs": [
    {
     "name": "stdout",
     "output_type": "stream",
     "text": [
      "vocabulary_size 8000\n"
     ]
    }
   ],
   "source": [
    "def get_vocabulary_size(X):\n",
    "    \"\"\"\n",
    "    input (X): [num_document, document_size (variable_length)]\n",
    "    output   : vocabulary size\n",
    "    \"\"\"\n",
    "    return max([max(doc) for doc in X]) + 1  # plus the 0th word\n",
    "\n",
    "def fit_in_vocabulary(X, voc_size):\n",
    "    \"\"\"\n",
    "    convert the index of OOV (out-of-vocabulary) word to \"2\"\n",
    "    input (X): [num_document, document_size (variable_length)]\n",
    "    output   : [num_document, document_size (variable_length)]\n",
    "    \"\"\"\n",
    "    for i, doc in enumerate(X):\n",
    "        X[i] = [w if w < voc_size else 2 for w in doc]\n",
    "    return X\n",
    "\n",
    "vocabulary_size = get_vocabulary_size(X_trn)\n",
    "X_tst = fit_in_vocabulary(X_tst, vocabulary_size)\n",
    "print('vocabulary_size', vocabulary_size)"
   ]
  },
  {
   "cell_type": "markdown",
   "metadata": {},
   "source": [
    "zero-padding: 모든 sequence의 길이를 동일하게 만들어줌"
   ]
  },
  {
   "cell_type": "code",
   "execution_count": 5,
   "metadata": {
    "scrolled": true
   },
   "outputs": [
    {
     "name": "stdout",
     "output_type": "stream",
     "text": [
      "Pad sequences (samples x time)\n",
      "x_train shape: (25000, 200)\n",
      "x_test shape: (3913, 200)\n"
     ]
    }
   ],
   "source": [
    "from tensorflow.keras.preprocessing.sequence import pad_sequences\n",
    "\n",
    "print('Pad sequences (samples x time)')\n",
    "X_trn = pad_sequences(X_trn, maxlen=maxlen, padding='post')\n",
    "X_tst = pad_sequences(X_tst, maxlen=maxlen, padding='post')\n",
    "print('x_train shape:', X_trn.shape)\n",
    "print('x_test shape:', X_tst.shape)"
   ]
  },
  {
   "cell_type": "markdown",
   "metadata": {},
   "source": [
    "batch dataset 생성"
   ]
  },
  {
   "cell_type": "code",
   "execution_count": 8,
   "metadata": {},
   "outputs": [],
   "source": [
    "batch_size = 256\n",
    "train_dataset = (tf.data.Dataset.from_tensor_slices((X_trn, y_trn))\n",
    "                 .shuffle(len(X_trn)).batch(batch_size))\n",
    "test_dataset = (tf.data.Dataset.from_tensor_slices((X_tst, y_tst))\n",
    "                .batch(batch_size))"
   ]
  },
  {
   "cell_type": "code",
   "execution_count": null,
   "metadata": {},
   "outputs": [],
   "source": []
  },
  {
   "cell_type": "markdown",
   "metadata": {},
   "source": [
    "# Build graph"
   ]
  },
  {
   "cell_type": "markdown",
   "metadata": {},
   "source": [
    "![](https://image.slidesharecdn.com/l07nnrnngrulstm-151108140716-lva1-app6892/95/recurrent-neural-networks-lstm-and-gru-14-638.jpg?cb=1446992496)\n",
    "\n",
    "We need many-to-one structure!"
   ]
  },
  {
   "cell_type": "markdown",
   "metadata": {},
   "source": [
    "![](http://deeplearning.net/tutorial/_images/lstm.png)"
   ]
  },
  {
   "cell_type": "code",
   "execution_count": 9,
   "metadata": {},
   "outputs": [],
   "source": [
    "from tensorflow.keras import Model, layers\n",
    "\n",
    "# Network Parameters\n",
    "num_input = num_words # number of sequences.\n",
    "timesteps = maxlen    # timesteps.\n",
    "embedding_dim = 16 # embedding dimention of one-hot vectors\n",
    "num_units = 32 # number of neurons for the LSTM layer."
   ]
  },
  {
   "cell_type": "code",
   "execution_count": 10,
   "metadata": {},
   "outputs": [],
   "source": [
    "# Create LSTM Model.\n",
    "class LSTM(Model):\n",
    "    # Set layers.\n",
    "    def __init__(self):\n",
    "        super(LSTM, self).__init__()\n",
    "        self.embedding_layer = layers.Embedding(input_dim=vocabulary_size, \n",
    "                                                output_dim=embedding_dim,\n",
    "                                                mask_zero=True)\n",
    "        self.lstm_layer = layers.LSTM(units=num_units, \n",
    "                                      return_sequences=True,\n",
    "                                      zero_output_for_mask=True)\n",
    "        self.out = layers.Dense(1, activation='sigmoid')\n",
    "\n",
    "    # Set forward pass.\n",
    "    def call(self, x, is_training=False):\n",
    "        # Embedding layer\n",
    "        # input=[batch_size, maxlen, vocabulary_size]\n",
    "        # output=[batch_size, maxlen, embedding_dim]\n",
    "        x_embedded = self.embedding_layer(x)\n",
    "        \n",
    "        # mask for zero-padded parts\n",
    "        mask = self.embedding_layer.compute_mask(x)\n",
    "        \n",
    "        # LSTM layer.\n",
    "        # input=[batch_size, maxlen, embedding_dim]\n",
    "        # output=[batch_size, maxlen, num_units]\n",
    "        rnn_outputs = self.lstm_layer(x_embedded, mask=mask)\n",
    "        \n",
    "        # average outputs over time axis\n",
    "        # input=[batch_size, maxlen, num_units]\n",
    "        # output=[batch_size, num_units]\n",
    "        casted_mask = tf.cast(mask, tf.float32)\n",
    "        masked_outputs = tf.multiply(rnn_outputs, \n",
    "                                     tf.expand_dims(casted_mask, 2))\n",
    "        lengths = tf.reduce_sum(casted_mask, axis=1)\n",
    "        average = tf.divide(tf.reduce_sum(masked_outputs, axis=1), \n",
    "                            tf.expand_dims(lengths, 1))\n",
    "        \n",
    "        # Output layer\n",
    "        output = self.out(average)\n",
    "        \n",
    "        return output"
   ]
  },
  {
   "cell_type": "markdown",
   "metadata": {},
   "source": [
    "## Train and Test"
   ]
  },
  {
   "cell_type": "code",
   "execution_count": 11,
   "metadata": {},
   "outputs": [
    {
     "name": "stdout",
     "output_type": "stream",
     "text": [
      "Epoch 1/10\n",
      "98/98 [==============================] - 7s 76ms/step - loss: 0.5465 - accuracy: 0.7335 - val_loss: 0.0000e+00 - val_accuracy: 0.0000e+00\n",
      "Epoch 2/10\n",
      "98/98 [==============================] - 3s 27ms/step - loss: 0.3038 - accuracy: 0.8828 - val_loss: 0.3122 - val_accuracy: 0.8740\n",
      "Epoch 3/10\n",
      "98/98 [==============================] - 3s 26ms/step - loss: 0.2371 - accuracy: 0.9130 - val_loss: 0.3029 - val_accuracy: 0.8740\n",
      "Epoch 4/10\n",
      "98/98 [==============================] - 3s 27ms/step - loss: 0.2086 - accuracy: 0.9249 - val_loss: 0.3205 - val_accuracy: 0.8753\n",
      "Epoch 5/10\n",
      "98/98 [==============================] - 3s 27ms/step - loss: 0.1825 - accuracy: 0.9365 - val_loss: 0.3281 - val_accuracy: 0.8735\n",
      "Epoch 6/10\n",
      "98/98 [==============================] - 3s 27ms/step - loss: 0.1630 - accuracy: 0.9431 - val_loss: 0.3570 - val_accuracy: 0.8661\n",
      "Epoch 7/10\n",
      "98/98 [==============================] - 3s 27ms/step - loss: 0.1503 - accuracy: 0.9492 - val_loss: 0.3377 - val_accuracy: 0.8612\n",
      "Epoch 8/10\n",
      "98/98 [==============================] - 3s 27ms/step - loss: 0.1477 - accuracy: 0.9515 - val_loss: 0.3776 - val_accuracy: 0.8610\n",
      "Epoch 9/10\n",
      "98/98 [==============================] - 3s 27ms/step - loss: 0.1339 - accuracy: 0.9567 - val_loss: 0.4152 - val_accuracy: 0.8566\n",
      "Epoch 10/10\n",
      "98/98 [==============================] - 3s 27ms/step - loss: 0.1214 - accuracy: 0.9618 - val_loss: 0.5011 - val_accuracy: 0.8467\n",
      "16/16 [==============================] - 0s 9ms/step - loss: 0.5011 - accuracy: 0.8467\n",
      "Test Loss: 0.5010825004428625\n",
      "Test Accuracy: 0.8466649651527405\n"
     ]
    }
   ],
   "source": [
    "batch_size = 256\n",
    "epochs = 10\n",
    "\n",
    "model = LSTM()\n",
    "model.compile(loss='binary_crossentropy',\n",
    "              optimizer='adam',\n",
    "              metrics=['accuracy'])\n",
    "history = model.fit(train_dataset, epochs=epochs,\n",
    "                    validation_data=test_dataset)\n",
    "\n",
    "test_loss, test_acc = model.evaluate(test_dataset)\n",
    "\n",
    "print('Test Loss: {}'.format(test_loss))\n",
    "print('Test Accuracy: {}'.format(test_acc))"
   ]
  },
  {
   "cell_type": "code",
   "execution_count": null,
   "metadata": {},
   "outputs": [],
   "source": []
  },
  {
   "cell_type": "code",
   "execution_count": 12,
   "metadata": {},
   "outputs": [],
   "source": [
    "# Create LSTM Model.\n",
    "class BidirectionalLSTM(LSTM):\n",
    "    # Set layers.\n",
    "    def __init__(self):\n",
    "        super(BidirectionalLSTM, self).__init__()\n",
    "        self.lstm_layer = layers.Bidirectional(self.lstm_layer, merge_mode='sum')"
   ]
  },
  {
   "cell_type": "code",
   "execution_count": 13,
   "metadata": {},
   "outputs": [
    {
     "name": "stdout",
     "output_type": "stream",
     "text": [
      "Epoch 1/10\n",
      "98/98 [==============================] - 11s 112ms/step - loss: 0.5060 - accuracy: 0.7492 - val_loss: 0.0000e+00 - val_accuracy: 0.0000e+00\n",
      "Epoch 2/10\n",
      "98/98 [==============================] - 4s 41ms/step - loss: 0.2568 - accuracy: 0.8980 - val_loss: 0.2774 - val_accuracy: 0.8919\n",
      "Epoch 3/10\n",
      "98/98 [==============================] - 4s 40ms/step - loss: 0.1964 - accuracy: 0.9260 - val_loss: 0.2749 - val_accuracy: 0.9021\n",
      "Epoch 4/10\n",
      "98/98 [==============================] - 4s 40ms/step - loss: 0.1619 - accuracy: 0.9408 - val_loss: 0.2903 - val_accuracy: 0.8991\n",
      "Epoch 5/10\n",
      "98/98 [==============================] - 4s 40ms/step - loss: 0.1399 - accuracy: 0.9496 - val_loss: 0.2918 - val_accuracy: 0.8899\n",
      "Epoch 6/10\n",
      "98/98 [==============================] - 4s 40ms/step - loss: 0.1234 - accuracy: 0.9559 - val_loss: 0.3433 - val_accuracy: 0.8853\n",
      "Epoch 7/10\n",
      "98/98 [==============================] - 4s 40ms/step - loss: 0.1052 - accuracy: 0.9637 - val_loss: 0.3673 - val_accuracy: 0.8830\n",
      "Epoch 8/10\n",
      "98/98 [==============================] - 4s 40ms/step - loss: 0.0901 - accuracy: 0.9693 - val_loss: 0.4027 - val_accuracy: 0.8827\n",
      "Epoch 9/10\n",
      "98/98 [==============================] - 4s 40ms/step - loss: 0.0793 - accuracy: 0.9730 - val_loss: 0.4359 - val_accuracy: 0.8745\n",
      "Epoch 10/10\n",
      "98/98 [==============================] - 4s 40ms/step - loss: 0.0707 - accuracy: 0.9767 - val_loss: 0.4085 - val_accuracy: 0.8832\n",
      "16/16 [==============================] - 0s 14ms/step - loss: 0.4085 - accuracy: 0.8832\n",
      "Test Loss: 0.40853938832879066\n",
      "Test Accuracy: 0.8832098245620728\n"
     ]
    }
   ],
   "source": [
    "batch_size = 256\n",
    "epochs = 10\n",
    "\n",
    "model = BidirectionalLSTM()\n",
    "model.compile(loss='binary_crossentropy',\n",
    "              optimizer='adam',\n",
    "              metrics=['accuracy'])\n",
    "history = model.fit(train_dataset, epochs=epochs,\n",
    "                    validation_data=test_dataset)\n",
    "\n",
    "test_loss, test_acc = model.evaluate(test_dataset)\n",
    "\n",
    "print('Test Loss: {}'.format(test_loss))\n",
    "print('Test Accuracy: {}'.format(test_acc))"
   ]
  },
  {
   "cell_type": "code",
   "execution_count": null,
   "metadata": {},
   "outputs": [],
   "source": []
  },
  {
   "cell_type": "markdown",
   "metadata": {},
   "source": [
    "## Check the sentiment of your review!"
   ]
  },
  {
   "cell_type": "code",
   "execution_count": 14,
   "metadata": {},
   "outputs": [
    {
     "name": "stdout",
     "output_type": "stream",
     "text": [
      "totally predictable but good for weekend\n",
      "==> sentment score [0.23] -- bad movie!\n"
     ]
    }
   ],
   "source": [
    "def get_sentiment_score(review_text):\n",
    "    review_seq = review_text.split(' ')\n",
    "    data = [[word_to_id[w] for w in review_seq]]\n",
    "    data = fit_in_vocabulary(data, vocabulary_size)\n",
    "\n",
    "    padded_data = pad_sequences(data, maxlen=maxlen, padding='post')\n",
    "    y = model.predict(padded_data)\n",
    "    return y.flatten()\n",
    "\n",
    "review_text = 'totally predictable but good for weekend'\n",
    "# review_text = 'how lovely the actress'\n",
    "# review_text = 'good soundtrack'\n",
    "# review_text = 'good ost'\n",
    "# review_text = 'horrible'\n",
    "\n",
    "y = get_sentiment_score(review_text)\n",
    "print(review_text)\n",
    "print('==> sentment score', y.round(2), '--',\n",
    "      'good' if y > 0.5 else 'bad', 'movie!')"
   ]
  }
 ],
 "metadata": {
  "kernelspec": {
   "display_name": "Python 3",
   "language": "python",
   "name": "python3"
  },
  "language_info": {
   "codemirror_mode": {
    "name": "ipython",
    "version": 3
   },
   "file_extension": ".py",
   "mimetype": "text/x-python",
   "name": "python",
   "nbconvert_exporter": "python",
   "pygments_lexer": "ipython3",
   "version": "3.7.1"
  }
 },
 "nbformat": 4,
 "nbformat_minor": 2
}
