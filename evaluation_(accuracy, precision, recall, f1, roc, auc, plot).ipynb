{
 "cells": [
  {
   "cell_type": "code",
   "execution_count": 1,
   "metadata": {},
   "outputs": [],
   "source": [
    "import pandas as pd\n",
    "import numpy as np\n",
    "from sklearn.model_selection import train_test_split\n",
    "from sklearn import preprocessing\n",
    "from sklearn.linear_model import LogisticRegression\n",
    "from sklearn.metrics import accuracy_score\n",
    "from sklearn.metrics import precision_score, recall_score, confusion_matrix\n",
    "from sklearn.metrics import precision_recall_curve\n",
    "from sklearn.metrics import f1_score\n",
    "from sklearn.metrics import roc_curve\n",
    "from sklearn.metrics import roc_auc_score\n",
    "from sklearn.metrics import auc\n",
    "from sklearn.preprocessing import Binarizer"
   ]
  },
  {
   "cell_type": "code",
   "execution_count": 2,
   "metadata": {},
   "outputs": [],
   "source": [
    "#Null 처리 함수\n",
    "def fillna(df):\n",
    "    df['Age'].fillna(df['Age'].mean(),inplace=True)\n",
    "    df['Cabin'].fillna('N',inplace=True)\n",
    "    df['Embarked'].fillna('N',inplace=True)\n",
    "    df['Fare'].fillna(0,inplace=True)\n",
    "    \n",
    "    return df\n",
    "\n",
    "\n",
    "#불필요한 변수 제거 함수\n",
    "def drop_features(df):\n",
    "    df.drop(['PassengerId','Name','Ticket'],axis=1,inplace=True)\n",
    "    \n",
    "    return df\n",
    "\n",
    "\n",
    "#범주형 변수 레이블 인코딩\n",
    "def format_features(df):\n",
    "    df['Cabin'] = df['Cabin'].str[:1]\n",
    "    features = ['Cabin','Sex','Embarked']\n",
    "    \n",
    "    for i in features:\n",
    "        encoder = preprocessing.LabelEncoder()\n",
    "        encoder.fit(df[i])\n",
    "        df[i] = encoder.transform(df[i])\n",
    "        \n",
    "    return df\n",
    "\n",
    "\n",
    "#위의 3개 함수 호출\n",
    "def transform_features(df):\n",
    "    df = fillna(df)\n",
    "    df = drop_features(df)\n",
    "    df = format_features(df)\n",
    "    \n",
    "    return df"
   ]
  },
  {
   "cell_type": "code",
   "execution_count": 3,
   "metadata": {},
   "outputs": [],
   "source": [
    "titanic_df = pd.read_csv(r'C:\\Users\\kis91\\Desktop\\python study\\data\\titanic\\titanic_train.csv')\n",
    "y_titanic_df = titanic_df['Survived']\n",
    "x_titanic_df = titanic_df.drop('Survived',axis=1)\n",
    "x_titanic_df = transform_features(x_titanic_df)\n",
    "x_train,x_test,y_train,y_test = train_test_split(x_titanic_df,y_titanic_df,test_size=0.2,random_state=0)"
   ]
  },
  {
   "cell_type": "code",
   "execution_count": 4,
   "metadata": {},
   "outputs": [
    {
     "data": {
      "text/plain": [
       "0.7877094972067039"
      ]
     },
     "execution_count": 4,
     "metadata": {},
     "output_type": "execute_result"
    }
   ],
   "source": [
    "#성별이 여자면 생존, 남자면 사망인 Classifier\n",
    "def bayse_clf(df):\n",
    "    pred = np.zeros((df.shape[0],1))\n",
    "    for i in range(df.shape[0]):\n",
    "        if df['Sex'].iloc[i]==1 : pred[i] = 0\n",
    "        else : pred[i] = 1\n",
    "    return pred\n",
    "\n",
    "\n",
    "\n",
    "accuracy_score(y_test,bayse_clf(x_test))"
   ]
  },
  {
   "cell_type": "code",
   "execution_count": 5,
   "metadata": {},
   "outputs": [
    {
     "name": "stdout",
     "output_type": "stream",
     "text": [
      "confusion matrix\n",
      "[[108  10]\n",
      " [ 14  47]]\n",
      "accuracy : 0.8659 , precision : 0.8246 , recall : 0.7705\n"
     ]
    },
    {
     "name": "stderr",
     "output_type": "stream",
     "text": [
      "C:\\Users\\kis91\\Anaconda3\\lib\\site-packages\\sklearn\\linear_model\\logistic.py:433: FutureWarning: Default solver will be changed to 'lbfgs' in 0.22. Specify a solver to silence this warning.\n",
      "  FutureWarning)\n"
     ]
    }
   ],
   "source": [
    "#데이터\n",
    "titanic_df = pd.read_csv(r'C:\\Users\\kis91\\Desktop\\python study\\data\\titanic\\titanic_train.csv')\n",
    "y_titanic_df = titanic_df['Survived']\n",
    "x_titanic_df = titanic_df.drop('Survived',axis=1)\n",
    "x_titanic_df = transform_features(x_titanic_df)\n",
    "x_train,x_test,y_train,y_test = train_test_split(x_titanic_df,y_titanic_df,test_size=0.2,random_state=11)\n",
    "\n",
    "\n",
    "\n",
    "#################모델 평가(정확도,정밀도,재현율)#########################\n",
    "def get_clf_eval(y_test, pred):\n",
    "    #confusion 행렬\n",
    "    confusion = confusion_matrix(y_test, pred)\n",
    "    #정확도\n",
    "    accuracy = accuracy_score(y_test, pred)\n",
    "    #정밀도\n",
    "    precision = precision_score(y_test, pred)\n",
    "    #재현율\n",
    "    recall = recall_score(y_test, pred)\n",
    "    print('confusion matrix')\n",
    "    print(confusion)\n",
    "    print('accuracy :',np.around(accuracy,4),', precision :',np.around(precision,4),', recall :',np.around(recall,4))\n",
    "    \n",
    "    \n",
    "    \n",
    "lr_clf = LogisticRegression()\n",
    "lr_clf.fit(x_train,y_train)\n",
    "pred = lr_clf.predict(x_test)\n",
    "get_clf_eval(y_test,pred)"
   ]
  },
  {
   "cell_type": "code",
   "execution_count": 6,
   "metadata": {},
   "outputs": [
    {
     "name": "stdout",
     "output_type": "stream",
     "text": [
      "확률 matrix + 예측값 \n",
      " [[0.44935227 0.55064773 1.        ]\n",
      " [0.86335513 0.13664487 0.        ]\n",
      " [0.86429645 0.13570355 0.        ]] \n",
      "\n",
      "임계값 : 0.4\n",
      "confusion matrix\n",
      "[[97 21]\n",
      " [11 50]]\n",
      "accuracy : 0.8212 , precision : 0.7042 , recall : 0.8197\n",
      "\n",
      "\n",
      "임계값 : 0.45\n",
      "confusion matrix\n",
      "[[105  13]\n",
      " [ 13  48]]\n",
      "accuracy : 0.8547 , precision : 0.7869 , recall : 0.7869\n",
      "\n",
      "\n",
      "임계값 : 0.5\n",
      "confusion matrix\n",
      "[[108  10]\n",
      " [ 14  47]]\n",
      "accuracy : 0.8659 , precision : 0.8246 , recall : 0.7705\n",
      "\n",
      "\n",
      "임계값 : 0.55\n",
      "confusion matrix\n",
      "[[111   7]\n",
      " [ 16  45]]\n",
      "accuracy : 0.8715 , precision : 0.8654 , recall : 0.7377\n",
      "\n",
      "\n",
      "임계값 : 0.6\n",
      "confusion matrix\n",
      "[[113   5]\n",
      " [ 17  44]]\n",
      "accuracy : 0.8771 , precision : 0.898 , recall : 0.7213\n",
      "\n",
      "\n"
     ]
    }
   ],
   "source": [
    "#정밀도/재현율 트레이드오프\n",
    "\n",
    "pred_proba = lr_clf.predict_proba(x_test)\n",
    "pred = lr_clf.predict(x_test)\n",
    "pred_proba_result = np.concatenate([pred_proba,pred.reshape(-1,1)],axis=1)\n",
    "print('확률 matrix + 예측값 \\n',pred_proba_result[:3],'\\n')\n",
    "\n",
    "\n",
    "#Binarizer을 사용한 임계값\n",
    "custom_threshold = [0.4,0.45,0.5,0.55,0.6]\n",
    "for i in custom_threshold:\n",
    "    pred_proba_1 = pred_proba[:,1].reshape(-1,1)\n",
    "    binarizer = Binarizer(threshold=i).fit(pred_proba_1)\n",
    "    custom_predict = binarizer.transform(pred_proba_1)\n",
    "    print('임계값 :',i)\n",
    "    get_clf_eval(y_test,custom_predict)\n",
    "    print('\\n')\n"
   ]
  },
  {
   "cell_type": "code",
   "execution_count": 11,
   "metadata": {},
   "outputs": [
    {
     "name": "stdout",
     "output_type": "stream",
     "text": [
      "precisions : [0.37888199 0.375      0.37735849]\n",
      "recalls : [1.         0.98360656 0.98360656]\n",
      "thresholds : [0.11573101 0.11636721 0.11819211]\n"
     ]
    },
    {
     "data": {
      "image/png": "[encoded data removed]",
      "text/plain": [
       "<Figure size 576x432 with 1 Axes>"
      ]
     },
     "metadata": {
      "needs_background": "light"
     },
     "output_type": "display_data"
    }
   ],
   "source": [
    "#정밀도/재현율 트레이드오프 그래프\n",
    "import matplotlib.pyplot as plt\n",
    "import matplotlib.ticker as ticker\n",
    "\n",
    "def precision_recall_curve_plot(y_test,pred_proba):\n",
    "    precisions, recalls, thresholds = precision_recall_curve(y_test,pred_proba)\n",
    "    \n",
    "    #그래프크기\n",
    "    plt.figure(figsize=(8,6))\n",
    "    #x축을 threshold값으로, y축은 정밀도, 재현율\n",
    "    \n",
    "    threshold_boundary = thresholds.shape[0]\n",
    "    \n",
    "    #plt.plot(x값,y값)\n",
    "    plt.plot(thresholds, precisions[0:threshold_boundary], linestyle='--', label='precision')\n",
    "    plt.plot(thresholds, recalls[0:threshold_boundary], label='recalls')\n",
    "    print('precisions :',precisions[0:3])\n",
    "    print('recalls :',recalls[0:3])\n",
    "    print('thresholds :',thresholds[0:3])\n",
    "    \n",
    "    #축 설정\n",
    "    plt.xticks(np.round(np.arange(0.07,1,0.1),2))\n",
    "    plt.yticks(np.round(np.arange(0,1.1,0.1),2))\n",
    "\n",
    "    #x축 y축 label, legend, grid설정\n",
    "    plt.xlabel('Threshold value')\n",
    "    plt.ylabel('Precision and Recall value')\n",
    "    plt.legend()\n",
    "    plt.grid()\n",
    "    plt.show()\n",
    "    \n",
    "    \n",
    "precision_recall_curve_plot(y_test,pred_proba[:,1])\n"
   ]
  },
  {
   "cell_type": "code",
   "execution_count": 8,
   "metadata": {},
   "outputs": [
    {
     "name": "stdout",
     "output_type": "stream",
     "text": [
      "f1 socre : 0.7966101694915254 \n",
      "\n",
      "함수 결과 :\n",
      "confusion matrix\n",
      "[[108  10]\n",
      " [ 14  47]]\n",
      "accuracy : 0.8659 , precision : 0.8246 , recall : 0.7705 F1 score : 0.7966\n",
      "---------------------------------------------------------------------------------------------\n",
      "\n",
      "custom threshold : [0.4, 0.45, 0.5, 0.55, 0.6] \n",
      "\n",
      "\n",
      "-------threshold: 0.4 -------\n",
      "confusion matrix\n",
      "[[97 21]\n",
      " [11 50]]\n",
      "accuracy : 0.8212 , precision : 0.7042 , recall : 0.8197 F1 score : 0.7576\n",
      "\n",
      "-------threshold: 0.45 -------\n",
      "confusion matrix\n",
      "[[105  13]\n",
      " [ 13  48]]\n",
      "accuracy : 0.8547 , precision : 0.7869 , recall : 0.7869 F1 score : 0.7869\n",
      "\n",
      "-------threshold: 0.5 -------\n",
      "confusion matrix\n",
      "[[108  10]\n",
      " [ 14  47]]\n",
      "accuracy : 0.8659 , precision : 0.8246 , recall : 0.7705 F1 score : 0.7966\n",
      "\n",
      "-------threshold: 0.55 -------\n",
      "confusion matrix\n",
      "[[111   7]\n",
      " [ 16  45]]\n",
      "accuracy : 0.8715 , precision : 0.8654 , recall : 0.7377 F1 score : 0.7965\n",
      "\n",
      "-------threshold: 0.6 -------\n",
      "confusion matrix\n",
      "[[113   5]\n",
      " [ 17  44]]\n",
      "accuracy : 0.8771 , precision : 0.898 , recall : 0.7213 F1 score : 0.8\n"
     ]
    }
   ],
   "source": [
    "# F1 Score\n",
    "\n",
    "f1 = f1_score(y_test,pred)\n",
    "print('f1 socre :',f1,'\\n')\n",
    "\n",
    "\n",
    "\n",
    "\n",
    "#모델 평가(정확도,정밀도,재현율+F1 Score추가)\n",
    "def get_clf_eval(y_test, pred):\n",
    "    confusion = confusion_matrix(y_test, pred)\n",
    "    accuracy = accuracy_score(y_test, pred)\n",
    "    precision = precision_score(y_test, pred)\n",
    "    recall = recall_score(y_test, pred)\n",
    "    f1 = f1_score(y_test, pred)\n",
    "    print('confusion matrix')\n",
    "    print(confusion)\n",
    "    print('accuracy :',np.around(accuracy,4),', precision :',np.around(precision,4),', recall :',np.around(recall,4),'F1 score :',np.around(f1,4))\n",
    "print('함수 결과 :')\n",
    "get_clf_eval(y_test,pred)\n",
    "\n",
    "\n",
    "\n",
    "\n",
    "\n",
    "print('---------------------------------------------------------------------------------------------')\n",
    "print('\\ncustom threshold :',custom_threshold,'\\n')\n",
    "for i in custom_threshold:\n",
    "    pred_proba_1 = pred_proba[:,1].reshape(-1,1)\n",
    "    binarizer = Binarizer(threshold=i).fit(pred_proba_1)\n",
    "    new_pred = binarizer.transform(pred_proba_1)\n",
    "    print('\\n-------threshold:',i,'-------')\n",
    "    get_clf_eval(y_test,new_pred)\n",
    "    "
   ]
  },
  {
   "cell_type": "code",
   "execution_count": 9,
   "metadata": {},
   "outputs": [
    {
     "data": {
      "image/png": "[encoded data removed]",
      "text/plain": [
       "<Figure size 432x288 with 1 Axes>"
      ]
     },
     "metadata": {
      "needs_background": "light"
     },
     "output_type": "display_data"
    }
   ],
   "source": [
    "#ROC curve\n",
    "\n",
    "def roc_curve_plot(y_test,proba):\n",
    "    #그래프크기\n",
    "    plt.figure(figsize=(6,4))\n",
    "    #임계값에 따른 frps, tprs\n",
    "    fprs, tprs, thresholds = roc_curve(y_test,proba)\n",
    "    #ROC선\n",
    "    plt.plot(fprs,tprs,label='ROC')\n",
    "    #대각선\n",
    "    plt.plot([0,1],[0,1],linestyle='--',label='Random')\n",
    "    \n",
    "    #x축 y축 스케일 설정\n",
    "    plt.xlim(0,1);plt.ylim(0,1)\n",
    "    plt.xticks(np.round(np.arange(0,1,0.1),2))\n",
    "    plt.yticks(np.round(np.arange(0,1,0.1),2))\n",
    "    #x축, y축 이름\n",
    "    plt.xlabel('FPR(1-Specificity)')\n",
    "    plt.ylabel('TPR(Sensitivity)')\n",
    "    \n",
    "    plt.legend(loc=4) #loc = 라벨 위치, 0은 best position\n",
    "    plt.grid()\n",
    "    plt.show()\n",
    "    \n",
    "roc_curve_plot(y_test,pred_proba[:,1])"
   ]
  },
  {
   "cell_type": "code",
   "execution_count": 10,
   "metadata": {
    "scrolled": true
   },
   "outputs": [
    {
     "name": "stdout",
     "output_type": "stream",
     "text": [
      "AUC : 0.8986524034454015\n",
      "AUC : 0.8986524034454015\n"
     ]
    }
   ],
   "source": [
    "#AUC\n",
    "fprs, tprs, thresholds = roc_curve(y_test,pred_proba[:,1].reshape(-1,1))\n",
    "print(\"AUC :\",auc(fprs,tprs))\n",
    "print('AUC :',roc_auc_score(y_test,pred_proba[:,1]))\n",
    "\n"
   ]
  }
 ],
 "metadata": {
  "kernelspec": {
   "display_name": "Python 3",
   "language": "python",
   "name": "python3"
  },
  "language_info": {
   "codemirror_mode": {
    "name": "ipython",
    "version": 3
   },
   "file_extension": ".py",
   "mimetype": "text/x-python",
   "name": "python",
   "nbconvert_exporter": "python",
   "pygments_lexer": "ipython3",
   "version": "3.7.1"
  }
 },
 "nbformat": 4,
 "nbformat_minor": 2
}
