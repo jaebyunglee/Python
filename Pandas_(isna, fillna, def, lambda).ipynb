{
 "cells": [
  {
   "cell_type": "code",
   "execution_count": 1,
   "metadata": {},
   "outputs": [],
   "source": [
    "import pandas as pd\n",
    "import numpy as np"
   ]
  },
  {
   "cell_type": "code",
   "execution_count": 2,
   "metadata": {},
   "outputs": [],
   "source": [
    "pd.set_option('display.width',1000)\n",
    "pd.set_option('display.max_colwidth',10)\n",
    "titanic_df = pd.read_csv(r'C:\\Users\\kis91\\Desktop\\python study\\data\\titanic\\titanic_train.csv')"
   ]
  },
  {
   "cell_type": "code",
   "execution_count": 3,
   "metadata": {},
   "outputs": [
    {
     "data": {
      "text/plain": [
       "PassengerId      0\n",
       "Survived         0\n",
       "Pclass           0\n",
       "Name             0\n",
       "Sex              0\n",
       "Age            177\n",
       "SibSp            0\n",
       "Parch            0\n",
       "Ticket           0\n",
       "Fare             0\n",
       "Cabin          687\n",
       "Embarked         2\n",
       "dtype: int64"
      ]
     },
     "execution_count": 3,
     "metadata": {},
     "output_type": "execute_result"
    }
   ],
   "source": [
    "titanic_df.isna().sum()"
   ]
  },
  {
   "cell_type": "code",
   "execution_count": 4,
   "metadata": {},
   "outputs": [
    {
     "name": "stdout",
     "output_type": "stream",
     "text": [
      "PassengerId    0\n",
      "Survived       0\n",
      "Pclass         0\n",
      "Name           0\n",
      "Sex            0\n",
      "Age            0\n",
      "SibSp          0\n",
      "Parch          0\n",
      "Ticket         0\n",
      "Fare           0\n",
      "Cabin          0\n",
      "Embarked       0\n",
      "dtype: int64\n"
     ]
    }
   ],
   "source": [
    "#Na값 채워넣기\n",
    "titanic_df['Cabin'] = titanic_df['Cabin'].fillna('C000')\n",
    "titanic_df['Age'].fillna(titanic_df['Age'].mean(),inplace=True)\n",
    "titanic_df['Embarked'].fillna('S',inplace=True)\n",
    "print(titanic_df.isna().sum())"
   ]
  },
  {
   "cell_type": "code",
   "execution_count": 5,
   "metadata": {},
   "outputs": [
    {
     "name": "stdout",
     "output_type": "stream",
     "text": [
      "9\n",
      "9\n"
     ]
    }
   ],
   "source": [
    "#lambda 함수\n",
    "def get_square(a):\n",
    "    return a**2\n",
    "print(get_square(3))\n",
    "\n",
    "\n",
    "lambda_square = lambda x : x**2\n",
    "print(lambda_square(3))"
   ]
  },
  {
   "cell_type": "code",
   "execution_count": 6,
   "metadata": {},
   "outputs": [
    {
     "data": {
      "text/plain": [
       "Adult      786\n",
       "Child       83\n",
       "Elderly     22\n",
       "Name: Age_cat, dtype: int64"
      ]
     },
     "execution_count": 6,
     "metadata": {},
     "output_type": "execute_result"
    }
   ],
   "source": [
    "a = lambda x : len(x)\n",
    "titanic_df['Name'].apply(lambda x: len(x))\n",
    "titanic_df['Age'].apply(lambda x: 'Child' if x<=15 else 'Adult')\n",
    "titanic_df['Child_Adult'] = titanic_df['Age'].apply(lambda x: 'Child' if x<=15 else 'Adult')\n",
    "titanic_df['Age_cat'] = titanic_df['Age'].apply(lambda x: 'Child' if x<=15 else ('Adult' if x <=60 else 'Elderly'))\n",
    "titanic_df['Age_cat'].value_counts()\n"
   ]
  },
  {
   "cell_type": "code",
   "execution_count": 7,
   "metadata": {},
   "outputs": [
    {
     "data": {
      "text/plain": [
       "0        Adult\n",
       "1      Elderly\n",
       "2        Adult\n",
       "3        Adult\n",
       "4        Adult\n",
       "5        Adult\n",
       "6      Elderly\n",
       "7         Baby\n",
       "8        Adult\n",
       "9        Adult\n",
       "10        Baby\n",
       "11     Elderly\n",
       "12       Adult\n",
       "13     Elderly\n",
       "14       Adult\n",
       "15     Elderly\n",
       "16        Baby\n",
       "17       Adult\n",
       "18       Adult\n",
       "19       Adult\n",
       "20       Adult\n",
       "21       Adult\n",
       "22       Adult\n",
       "23       Adult\n",
       "24       Child\n",
       "25     Elderly\n",
       "26       Adult\n",
       "27       Adult\n",
       "28       Adult\n",
       "29       Adult\n",
       "        ...   \n",
       "861      Adult\n",
       "862    Elderly\n",
       "863      Adult\n",
       "864      Adult\n",
       "865    Elderly\n",
       "866      Adult\n",
       "867      Adult\n",
       "868      Adult\n",
       "869       Baby\n",
       "870      Adult\n",
       "871    Elderly\n",
       "872      Adult\n",
       "873    Elderly\n",
       "874      Adult\n",
       "875      Adult\n",
       "876      Adult\n",
       "877      Adult\n",
       "878      Adult\n",
       "879    Elderly\n",
       "880      Adult\n",
       "881      Adult\n",
       "882      Adult\n",
       "883      Adult\n",
       "884      Adult\n",
       "885    Elderly\n",
       "886      Adult\n",
       "887      Adult\n",
       "888      Adult\n",
       "889      Adult\n",
       "890      Adult\n",
       "Name: Age, Length: 891, dtype: object"
      ]
     },
     "execution_count": 7,
     "metadata": {},
     "output_type": "execute_result"
    }
   ],
   "source": [
    "def get_category(x):\n",
    "    if x <=5: ret = 'Baby'\n",
    "    elif x <=12: ret = 'Child'\n",
    "    elif x <=35: ret = 'Adult'\n",
    "    else : ret = 'Elderly'\n",
    "    return ret\n",
    "\n",
    "titanic_df['Age'].apply(lambda x : get_category(x))"
   ]
  }
 ],
 "metadata": {
  "kernelspec": {
   "display_name": "Python 3",
   "language": "python",
   "name": "python3"
  },
  "language_info": {
   "codemirror_mode": {
    "name": "ipython",
    "version": 3
   },
   "file_extension": ".py",
   "mimetype": "text/x-python",
   "name": "python",
   "nbconvert_exporter": "python",
   "pygments_lexer": "ipython3",
   "version": "3.7.1"
  }
 },
 "nbformat": 4,
 "nbformat_minor": 2
}
