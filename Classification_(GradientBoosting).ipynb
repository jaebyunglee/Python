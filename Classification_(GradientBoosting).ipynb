{
 "cells": [
  {
   "cell_type": "code",
   "execution_count": 8,
   "metadata": {},
   "outputs": [],
   "source": [
    "import pandas as pd\n",
    "import numpy as np\n",
    "from sklearn.metrics import accuracy_score\n",
    "from sklearn.model_selection import GridSearchCV\n",
    "from sklearn.ensemble import GradientBoostingClassifier\n",
    "import time\n",
    "import warnings"
   ]
  },
  {
   "cell_type": "code",
   "execution_count": 4,
   "metadata": {},
   "outputs": [
    {
     "name": "stdout",
     "output_type": "stream",
     "text": [
      "feature name 10개만 추출 :\n",
      " ['tBodyAcc-mean()-X', 'tBodyAcc-mean()-Y', 'tBodyAcc-mean()-Z', 'tBodyAcc-std()-X', 'tBodyAcc-std()-Y', 'tBodyAcc-std()-Z', 'tBodyAcc-mad()-X', 'tBodyAcc-mad()-Y', 'tBodyAcc-mad()-Z', 'tBodyAcc-max()-X']\n"
     ]
    },
    {
     "name": "stderr",
     "output_type": "stream",
     "text": [
      "C:\\Users\\kis91\\Anaconda3\\lib\\site-packages\\pandas\\io\\parsers.py:678: UserWarning: Duplicate names specified. This will raise an error in the future.\n",
      "  return _read(filepath_or_buffer, kwds)\n"
     ]
    }
   ],
   "source": [
    "feature_name_df = pd.read_csv('C:/Users/kis91/Desktop/python study/data/human_activity/features.txt',sep='\\s+',\n",
    "                              header = None , names=['column_index','column_name'])\n",
    "feature_name = feature_name_df.iloc[:,1].values.tolist()\n",
    "print('feature name 10개만 추출 :\\n',feature_name[:10])\n",
    "\n",
    "x_train = pd.read_csv('C:/Users/kis91/Desktop/python study/data/human_activity/train/X_train.txt',sep='\\s+', names=feature_name)\n",
    "x_test = pd.read_csv('C:/Users/kis91/Desktop/python study/data/human_activity/test/X_test.txt',sep='\\s+', names=feature_name)\n",
    "y_train = pd.read_csv('C:/Users/kis91/Desktop/python study/data/human_activity/train/y_train.txt',sep='\\s+', names=['action'])\n",
    "y_test = pd.read_csv('C:/Users/kis91/Desktop/python study/data/human_activity/test/y_test.txt',sep='\\s+', names=['action'])"
   ]
  },
  {
   "cell_type": "code",
   "execution_count": 5,
   "metadata": {},
   "outputs": [
    {
     "name": "stderr",
     "output_type": "stream",
     "text": [
      "C:\\Users\\kis91\\Anaconda3\\lib\\site-packages\\sklearn\\utils\\validation.py:761: DataConversionWarning: A column-vector y was passed when a 1d array was expected. Please change the shape of y to (n_samples, ), for example using ravel().\n",
      "  y = column_or_1d(y, warn=True)\n"
     ]
    },
    {
     "name": "stdout",
     "output_type": "stream",
     "text": [
      "수행시간 : 313.7315049171448 accuracy : 0.9375636240244316\n"
     ]
    }
   ],
   "source": [
    "start_time = time.time()\n",
    "gb_clf = GradientBoostingClassifier(random_state=0)\n",
    "gb_clf.fit(x_train,y_train)\n",
    "pred = gb_clf.predict(x_test)\n",
    "accuracy = accuracy_score(y_test,pred)\n",
    "print('수행시간 :',time.time()-start_time,'accuracy :',accuracy)"
   ]
  },
  {
   "cell_type": "code",
   "execution_count": 7,
   "metadata": {},
   "outputs": [
    {
     "name": "stdout",
     "output_type": "stream",
     "text": [
      "Fitting 2 folds for each of 1 candidates, totalling 2 fits\n"
     ]
    },
    {
     "name": "stderr",
     "output_type": "stream",
     "text": [
      "[Parallel(n_jobs=1)]: Using backend SequentialBackend with 1 concurrent workers.\n",
      "C:\\Users\\kis91\\Anaconda3\\lib\\site-packages\\sklearn\\utils\\validation.py:761: DataConversionWarning: A column-vector y was passed when a 1d array was expected. Please change the shape of y to (n_samples, ), for example using ravel().\n",
      "  y = column_or_1d(y, warn=True)\n",
      "C:\\Users\\kis91\\Anaconda3\\lib\\site-packages\\sklearn\\utils\\validation.py:761: DataConversionWarning: A column-vector y was passed when a 1d array was expected. Please change the shape of y to (n_samples, ), for example using ravel().\n",
      "  y = column_or_1d(y, warn=True)\n",
      "[Parallel(n_jobs=1)]: Done   2 out of   2 | elapsed: 16.8min finished\n",
      "C:\\Users\\kis91\\Anaconda3\\lib\\site-packages\\sklearn\\utils\\validation.py:761: DataConversionWarning: A column-vector y was passed when a 1d array was expected. Please change the shape of y to (n_samples, ), for example using ravel().\n",
      "  y = column_or_1d(y, warn=True)\n"
     ]
    },
    {
     "name": "stdout",
     "output_type": "stream",
     "text": [
      "최적 튜닝 : {'learning_rate': 0.05, 'n_estimators': 500}\n",
      "accuracy : 0.9409569053274517\n"
     ]
    }
   ],
   "source": [
    "params = {'n_estimators':[500],\n",
    "         'learning_rate':[0.05]}\n",
    "\n",
    "grid_cv = GridSearchCV(gb_clf,param_grid=params,cv=2,verbose=1)\n",
    "grid_cv.fit(x_train,y_train)\n",
    "print('최적 튜닝 :',grid_cv.best_params_)\n",
    "best_gb = grid_cv.best_estimator_\n",
    "pred = best_gb.predict(x_test)\n",
    "\n",
    "print('accuracy :',accuracy_score(y_test,pred))"
   ]
  },
  {
   "cell_type": "code",
   "execution_count": 9,
   "metadata": {},
   "outputs": [],
   "source": []
  }
 ],
 "metadata": {
  "kernelspec": {
   "display_name": "Python 3",
   "language": "python",
   "name": "python3"
  },
  "language_info": {
   "codemirror_mode": {
    "name": "ipython",
    "version": 3
   },
   "file_extension": ".py",
   "mimetype": "text/x-python",
   "name": "python",
   "nbconvert_exporter": "python",
   "pygments_lexer": "ipython3",
   "version": "3.7.1"
  }
 },
 "nbformat": 4,
 "nbformat_minor": 2
}
