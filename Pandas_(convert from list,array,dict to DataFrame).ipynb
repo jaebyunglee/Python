{
 "cells": [
  {
   "cell_type": "code",
   "execution_count": 1,
   "metadata": {},
   "outputs": [],
   "source": [
    "import pandas as pd\n",
    "import numpy as np"
   ]
  },
  {
   "cell_type": "code",
   "execution_count": 21,
   "metadata": {},
   "outputs": [
    {
     "name": "stdout",
     "output_type": "stream",
     "text": [
      "(3,) int32\n",
      "1차원 리스트로 만든 DataFrame:\n",
      "    col1\n",
      "0     1\n",
      "1     2\n",
      "2     3\n",
      "1차원 어레이로 만든 DataFrame:\n",
      "    col1\n",
      "0     1\n",
      "1     2\n",
      "2     3\n"
     ]
    }
   ],
   "source": [
    "col_name1 = ['col1']\n",
    "list1 = [1,2,3]\n",
    "\n",
    "#리스트를 어레이로 변환\n",
    "array1 = np.array(list1)\n",
    "print(array1.shape,array1.dtype)\n",
    "\n",
    "#리스트를 데이터프레임으로 변환\n",
    "df_list1 = pd.DataFrame(list1,columns=col_name1)\n",
    "print('1차원 리스트로 만든 DataFrame:\\n',df_list1)\n",
    "\n",
    "#어레이를 데이터프레임으로 변환\n",
    "df_array1 = pd.DataFrame(array1,columns=col_name1)\n",
    "print('1차원 어레이로 만든 DataFrame:\\n',df_array1)"
   ]
  },
  {
   "cell_type": "code",
   "execution_count": 59,
   "metadata": {},
   "outputs": [
    {
     "name": "stdout",
     "output_type": "stream",
     "text": [
      "2차원 리스트로 만든 DataFrame\n",
      "    col1  col2  col3\n",
      "a     1     2     3\n",
      "b     4     5     6\n",
      "2차원 어레이로 만든 DataFrame\n",
      "    col1  col2  col3\n",
      "0     1     2     3\n",
      "1     4     5     6\n",
      "3차원 어레이로 만든 DataFrame\n",
      "    0  1  2\n",
      "0  0  3  6\n",
      "1  1  4  7\n",
      "2  2  5  8\n"
     ]
    }
   ],
   "source": [
    "colname2 = ['col1','col2','col3']\n",
    "list2 = [[1,2,3],[4,5,6]]\n",
    "array2 = np.array([[1,2,3],[4,5,6]])\n",
    "\n",
    "df_list2 = pd.DataFrame(list2,columns=colname2,index=['a','b'])\n",
    "print('2차원 리스트로 만든 DataFrame\\n',df_list2)\n",
    "\n",
    "df_array2 = pd.DataFrame(array2,columns=colname2)\n",
    "print('2차원 어레이로 만든 DataFrame\\n',df_array2)\n",
    "\n",
    "a_vec = np.arange(start=0,stop=9)\n",
    "a_array = a_vec.reshape((3,3),order='F')\n",
    "df_a_array = pd.DataFrame(a_array)\n",
    "print('3차원 어레이로 만든 DataFrame\\n',df_a_array)"
   ]
  },
  {
   "cell_type": "code",
   "execution_count": 39,
   "metadata": {},
   "outputs": [
    {
     "name": "stdout",
     "output_type": "stream",
     "text": [
      "딕셔너리 {'col1': [1, 11], 'col2': [2, 22], 'col3': [3, 33]}\n",
      "딕셔너리로 만든 DataFrame:\n",
      "    col1  col2  col3\n",
      "0     1     2     3\n",
      "1    11    22    33\n"
     ]
    }
   ],
   "source": [
    "dict = {'col1':[1,11],'col2':[2,22],'col3':[3,33]}\n",
    "print('딕셔너리',dict)\n",
    "df_dict = pd.DataFrame(dict)\n",
    "print('딕셔너리로 만든 DataFrame:\\n',df_dict)"
   ]
  },
  {
   "cell_type": "code",
   "execution_count": 55,
   "metadata": {},
   "outputs": [
    {
     "name": "stdout",
     "output_type": "stream",
     "text": [
      "DataFrame을 어레이로 변환\n",
      " [[ 1  2  3]\n",
      " [11 22 33]]\n",
      "DataFrame을 list로 변환\n",
      " [[1, 2, 3], [11, 22, 33]]\n",
      "<class 'list'>\n"
     ]
    }
   ],
   "source": [
    "array3 = df_dict.values\n",
    "print('DataFrame을 어레이로 변환\\n',array3)\n",
    "\n",
    "list3 = df_dict.values.tolist()\n",
    "print('DataFrame을 list로 변환\\n',list3)\n",
    "print(type(list3))\n"
   ]
  },
  {
   "cell_type": "code",
   "execution_count": 56,
   "metadata": {},
   "outputs": [],
   "source": [
    "pd.DataFrame?"
   ]
  }
 ],
 "metadata": {
  "kernelspec": {
   "display_name": "Python 3",
   "language": "python",
   "name": "python3"
  },
  "language_info": {
   "codemirror_mode": {
    "name": "ipython",
    "version": 3
   },
   "file_extension": ".py",
   "mimetype": "text/x-python",
   "name": "python",
   "nbconvert_exporter": "python",
   "pygments_lexer": "ipython3",
   "version": "3.7.1"
  }
 },
 "nbformat": 4,
 "nbformat_minor": 2
}
