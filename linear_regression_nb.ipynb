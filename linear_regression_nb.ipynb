{
 "cells": [
  {
   "cell_type": "markdown",
   "metadata": {},
   "source": [
    "## 텐서플로우를 이용한 중회귀 분석"
   ]
  },
  {
   "cell_type": "code",
   "execution_count": 1,
   "metadata": {},
   "outputs": [],
   "source": [
    "import tensorflow as tf\n",
    "import numpy as np"
   ]
  },
  {
   "cell_type": "markdown",
   "metadata": {},
   "source": [
    "#### 데이터 만들기"
   ]
  },
  {
   "cell_type": "code",
   "execution_count": 2,
   "metadata": {},
   "outputs": [],
   "source": [
    "n = 100; p = 10\n",
    "tf.compat.v1.random.set_random_seed(1234)\n",
    "b_vec = tf.constant([range(10,0,-1)])\n",
    "b_vec = tf.divide(b_vec,p).numpy()\n",
    "x_mat = tf.random.normal([n,p]).numpy()\n",
    "y_vec = np.matmul(x_mat,np.transpose(b_vec)) + tf.random.normal([n,1]).numpy()"
   ]
  },
  {
   "cell_type": "markdown",
   "metadata": {},
   "source": [
    "#### x_mat 과 y_vec 텐서로 변환하기"
   ]
  },
  {
   "cell_type": "code",
   "execution_count": 3,
   "metadata": {},
   "outputs": [],
   "source": [
    "x_mat = tf.constant(x_mat,dtype=tf.float32)\n",
    "y_vec = tf.constant(y_vec,dtype=tf.float32)"
   ]
  },
  {
   "cell_type": "markdown",
   "metadata": {},
   "source": [
    "#### 초기 Weight와 Bias 설정"
   ]
  },
  {
   "cell_type": "code",
   "execution_count": 4,
   "metadata": {},
   "outputs": [],
   "source": [
    "W = tf.Variable(tf.random.normal([p, 1]), name='weight')\n",
    "b = tf.Variable(tf.random.normal([1]), name='bias')"
   ]
  },
  {
   "cell_type": "markdown",
   "metadata": {},
   "source": [
    "#### 회귀분석 모델 함수 정의"
   ]
  },
  {
   "cell_type": "code",
   "execution_count": 5,
   "metadata": {},
   "outputs": [],
   "source": [
    "def linear_model(x):\n",
    "    return tf.matmul(x,W) + b"
   ]
  },
  {
   "cell_type": "markdown",
   "metadata": {},
   "source": [
    "#### Loss함수 정의"
   ]
  },
  {
   "cell_type": "code",
   "execution_count": 6,
   "metadata": {},
   "outputs": [],
   "source": [
    "def mean_square_loss(y_pred,y_true):\n",
    "    return tf.reduce_mean(tf.pow(y_pred-y_true,2))"
   ]
  },
  {
   "cell_type": "markdown",
   "metadata": {},
   "source": [
    "## Loss를 줄이는 w,b찾기"
   ]
  },
  {
   "cell_type": "markdown",
   "metadata": {},
   "source": [
    "#### epoch, batch_size, learning_rate 설정"
   ]
  },
  {
   "cell_type": "code",
   "execution_count": 7,
   "metadata": {},
   "outputs": [],
   "source": [
    "epochs = 2000\n",
    "batch_size = len(y_vec)\n",
    "learning_rate = 0.01\n",
    "optimizer = tf.optimizers.SGD(learning_rate)"
   ]
  },
  {
   "cell_type": "markdown",
   "metadata": {},
   "source": [
    "#### tensorflow API batch 데이터 "
   ]
  },
  {
   "cell_type": "code",
   "execution_count": 8,
   "metadata": {},
   "outputs": [],
   "source": [
    "train_data = tf.data.Dataset.from_tensor_slices((x_mat, y_vec))\n",
    "training_batch = train_data.batch(batch_size).repeat(epochs)"
   ]
  },
  {
   "cell_type": "markdown",
   "metadata": {},
   "source": [
    "#### 학습시키가(W ,b 업데이트)"
   ]
  },
  {
   "cell_type": "code",
   "execution_count": 9,
   "metadata": {},
   "outputs": [
    {
     "name": "stdout",
     "output_type": "stream",
     "text": [
      "step: 100, loss: 0.7725\n",
      "step: 200, loss: 0.6813\n",
      "step: 300, loss: 0.6760\n",
      "step: 400, loss: 0.6757\n",
      "step: 500, loss: 0.6757\n",
      "step: 600, loss: 0.6757\n",
      "step: 700, loss: 0.6757\n",
      "step: 800, loss: 0.6757\n",
      "step: 900, loss: 0.6757\n",
      "step: 1000, loss: 0.6757\n",
      "step: 1100, loss: 0.6757\n",
      "step: 1200, loss: 0.6757\n",
      "step: 1300, loss: 0.6757\n",
      "step: 1400, loss: 0.6757\n",
      "step: 1500, loss: 0.6757\n",
      "step: 1600, loss: 0.6757\n",
      "step: 1700, loss: 0.6757\n",
      "step: 1800, loss: 0.6757\n",
      "step: 1900, loss: 0.6757\n",
      "step: 2000, loss: 0.6757\n"
     ]
    }
   ],
   "source": [
    "display_step = 100\n",
    "\n",
    "# Run training for the given number of steps.\n",
    "for step, (batch_x, batch_y) in enumerate(training_batch, 1):\n",
    "    # Run the optimization to update W and b values.\n",
    "    # Wrap computation inside a GradientTape for automatic differentiation.\n",
    "    with tf.GradientTape() as g:\n",
    "        pred = linear_model(batch_x)\n",
    "        loss = mean_square_loss(pred, batch_y)\n",
    "\n",
    "    # Compute gradients.\n",
    "    trainable_variables = [W, b]\n",
    "    gradients = g.gradient(loss, trainable_variables)\n",
    "    \n",
    "    # Update W and b following gradients.\n",
    "    optimizer.apply_gradients(zip(gradients, trainable_variables))\n",
    "    \n",
    "    if step % display_step == 0:\n",
    "        pred = linear_model(x_mat)\n",
    "        loss = mean_square_loss(pred, y_vec)\n",
    "        print(\"step: %i, loss: %.4f\" % (step, loss))"
   ]
  },
  {
   "cell_type": "markdown",
   "metadata": {},
   "source": [
    "#### 학습 완료된 W와 b"
   ]
  },
  {
   "cell_type": "code",
   "execution_count": 10,
   "metadata": {},
   "outputs": [
    {
     "name": "stdout",
     "output_type": "stream",
     "text": [
      "bias: [0.03380507] \n",
      " W: [[0.9625409 ]\n",
      " [0.75910044]\n",
      " [0.67700076]\n",
      " [0.78658956]\n",
      " [0.7574703 ]\n",
      " [0.67472416]\n",
      " [0.4651339 ]\n",
      " [0.14059491]\n",
      " [0.23396888]\n",
      " [0.10123886]]\n"
     ]
    }
   ],
   "source": [
    "print('bias:',b.numpy(),'\\n','W:',W.numpy())"
   ]
  },
  {
   "cell_type": "markdown",
   "metadata": {},
   "source": [
    "#### sklearn의 linear regression 과 비교"
   ]
  },
  {
   "cell_type": "code",
   "execution_count": 11,
   "metadata": {},
   "outputs": [
    {
     "name": "stdout",
     "output_type": "stream",
     "text": [
      "[0.03380498] [[0.96254295 0.7591026  0.6770032  0.78658813 0.7574698  0.67472285\n",
      "  0.46513456 0.14059453 0.23396935 0.10123969]]\n"
     ]
    }
   ],
   "source": [
    "##### sklearn linear regression \n",
    "from sklearn.linear_model import LinearRegression\n",
    "\n",
    "# sklearn package\n",
    "lrm = LinearRegression(n_jobs=-1)   \n",
    "lrm.fit(x_mat,y_vec)\n",
    "mean_square_loss(lrm.predict(x_mat),y_vec).numpy()\n",
    "print(lrm.intercept_ , lrm.coef_ )"
   ]
  }
 ],
 "metadata": {
  "kernelspec": {
   "display_name": "Python 3",
   "language": "python",
   "name": "python3"
  },
  "language_info": {
   "codemirror_mode": {
    "name": "ipython",
    "version": 3
   },
   "file_extension": ".py",
   "mimetype": "text/x-python",
   "name": "python",
   "nbconvert_exporter": "python",
   "pygments_lexer": "ipython3",
   "version": "3.7.3"
  }
 },
 "nbformat": 4,
 "nbformat_minor": 2
}
