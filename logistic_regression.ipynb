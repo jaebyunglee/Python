{
 "cells": [
  {
   "cell_type": "markdown",
   "metadata": {},
   "source": [
    "# 로지스틱 회귀분석"
   ]
  },
  {
   "cell_type": "code",
   "execution_count": 1,
   "metadata": {},
   "outputs": [],
   "source": [
    "import tensorflow as tf\n",
    "import numpy as np\n",
    "\n",
    "tf.random.set_seed(0)"
   ]
  },
  {
   "cell_type": "markdown",
   "metadata": {},
   "source": [
    "#### MNIST dataset parameters."
   ]
  },
  {
   "cell_type": "code",
   "execution_count": 2,
   "metadata": {},
   "outputs": [],
   "source": [
    "num_classes = 10 # total classes (0-9 digits).\n",
    "num_features = 784 # data features (img shape: 28*28)."
   ]
  },
  {
   "cell_type": "markdown",
   "metadata": {},
   "source": [
    "#### Prepare MNIST data."
   ]
  },
  {
   "cell_type": "code",
   "execution_count": 3,
   "metadata": {},
   "outputs": [],
   "source": [
    "from tensorflow.keras.datasets import mnist\n",
    "(x_train, y_train), (x_test, y_test) = mnist.load_data()"
   ]
  },
  {
   "cell_type": "markdown",
   "metadata": {},
   "source": [
    "#### Convert from uint8 to float32 and\n",
    "- normalize images value from [0, 255] to [0, 1].\n",
    "- (uint8: Unsigned integer (0 to 255))"
   ]
  },
  {
   "cell_type": "code",
   "execution_count": 4,
   "metadata": {},
   "outputs": [],
   "source": [
    "x_train = tf.convert_to_tensor(x_train, dtype=tf.float32) / 255.\n",
    "x_test = tf.convert_to_tensor(x_test, dtype=tf.float32) / 255."
   ]
  },
  {
   "cell_type": "markdown",
   "metadata": {},
   "source": [
    "#### Flatten images to 1-D vector of 784 features (28*28)."
   ]
  },
  {
   "cell_type": "code",
   "execution_count": 5,
   "metadata": {},
   "outputs": [],
   "source": [
    "x_train = tf.reshape(x_train, (-1, num_features)) # [b, 28, 28] => [b, 784]\n",
    "x_test = tf.reshape(x_test, (-1, num_features))  # [b, 28, 28] => [b, 784]"
   ]
  },
  {
   "cell_type": "markdown",
   "metadata": {},
   "source": [
    "#### 초기 W, b 설정"
   ]
  },
  {
   "cell_type": "code",
   "execution_count": 6,
   "metadata": {},
   "outputs": [],
   "source": [
    "# Weight of shape [784, 10], the 28*28 image features, and total number of classes.\n",
    "W = tf.Variable(tf.random.uniform([num_features, num_classes]), name=\"weight\")\n",
    "# Bias of shape [10], the total number of classes.\n",
    "b = tf.Variable(tf.random.uniform([num_classes]), name=\"bias\")"
   ]
  },
  {
   "cell_type": "markdown",
   "metadata": {},
   "source": [
    "#### 로지스틱 회귀, 로스, 정확도 함수 정의"
   ]
  },
  {
   "cell_type": "code",
   "execution_count": 10,
   "metadata": {},
   "outputs": [],
   "source": [
    "# Logistic regression (Wx + b).\n",
    "def logistic_regression(x):\n",
    "    # Apply softmax to normalize the logits to a probability distribution.\n",
    "    return tf.nn.softmax(tf.matmul(x, W) + b)\n",
    "\n",
    "# Cross-Entropy loss function.\n",
    "def cross_entropy(y_pred, y_true):\n",
    "    # Encode label to a one hot vector.\n",
    "    y_true = tf.one_hot(y_true, depth=num_classes)\n",
    "    # Clip prediction values to avoid log(0) error.\n",
    "    y_pred = tf.clip_by_value(y_pred, 1e-9, 1.)\n",
    "    # Compute cross-entropy.\n",
    "    return -tf.reduce_mean(tf.reduce_sum(y_true * tf.math.log(y_pred)))\n",
    "\n",
    "def accuracy(y_pred, y_true):\n",
    "    # Predicted class is the index of highest score in prediction vector (i.e. argmax).\n",
    "    correct_prediction = tf.equal(tf.argmax(y_pred, 1), tf.cast(y_true, tf.int64))\n",
    "    return tf.reduce_mean(tf.cast(correct_prediction, tf.float32))"
   ]
  },
  {
   "cell_type": "markdown",
   "metadata": {},
   "source": [
    "# Logistic regression"
   ]
  },
  {
   "cell_type": "code",
   "execution_count": 11,
   "metadata": {},
   "outputs": [
    {
     "name": "stdout",
     "output_type": "stream",
     "text": [
      "WARNING:tensorflow:From C:\\Users\\User\\Anaconda3\\lib\\site-packages\\tensorflow_core\\python\\ops\\math_grad.py:1394: where (from tensorflow.python.ops.array_ops) is deprecated and will be removed in a future version.\n",
      "Instructions for updating:\n",
      "Use tf.where in 2.0, which has the same broadcast rule as np.where\n",
      "stpe: 300, loss: 4615.1016, acc: 0.8866\n",
      "stpe: 600, loss: 4583.1279, acc: 0.8861\n",
      "stpe: 900, loss: 4355.8467, acc: 0.8907\n",
      "stpe: 1200, loss: 4209.4097, acc: 0.8938\n",
      "stpe: 1500, loss: 4110.3721, acc: 0.8956\n",
      "stpe: 1800, loss: 4036.7368, acc: 0.8970\n",
      "stpe: 2100, loss: 3985.3679, acc: 0.8981\n",
      "stpe: 2400, loss: 3946.7769, acc: 0.8990\n",
      "stpe: 2700, loss: 3916.7271, acc: 0.9002\n",
      "stpe: 3000, loss: 3892.4924, acc: 0.9010\n",
      "stpe: 3300, loss: 3872.3047, acc: 0.9017\n",
      "stpe: 3600, loss: 3855.0247, acc: 0.9025\n",
      "stpe: 3900, loss: 3839.9829, acc: 0.9027\n",
      "stpe: 4200, loss: 3826.7998, acc: 0.9028\n",
      "stpe: 4500, loss: 3815.2524, acc: 0.9032\n",
      "stpe: 4800, loss: 3805.1907, acc: 0.9034\n",
      "stpe: 5100, loss: 3798.2112, acc: 0.9039\n",
      "stpe: 5400, loss: 3791.6011, acc: 0.9043\n",
      "stpe: 5700, loss: 3785.7639, acc: 0.9045\n",
      "stpe: 6000, loss: 3780.7661, acc: 0.9046\n",
      "stpe: 6300, loss: 3776.5737, acc: 0.9050\n",
      "stpe: 6600, loss: 3773.1079, acc: 0.9052\n",
      "stpe: 6900, loss: 3770.2981, acc: 0.9052\n",
      "stpe: 7200, loss: 3768.0664, acc: 0.9051\n",
      "stpe: 7500, loss: 3766.3381, acc: 0.9053\n",
      "stpe: 7800, loss: 3765.0493, acc: 0.9051\n",
      "stpe: 8100, loss: 3764.1406, acc: 0.9054\n",
      "stpe: 8400, loss: 3763.5576, acc: 0.9055\n",
      "stpe: 8700, loss: 3763.2581, acc: 0.9054\n",
      "stpe: 9000, loss: 3763.2039, acc: 0.9056\n",
      "stpe: 9300, loss: 3763.3586, acc: 0.9055\n",
      "stpe: 9600, loss: 3763.7039, acc: 0.9054\n"
     ]
    }
   ],
   "source": [
    "#test로스를 최소화 하는 w,b 찾기\n",
    "epochs = 32\n",
    "batch_size = 200\n",
    "learning_rate = 0.01\n",
    "optimizer = tf.optimizers.SGD(learning_rate)\n",
    "\n",
    "\n",
    "train_data = tf.data.Dataset.from_tensor_slices((x_train,y_train))\n",
    "training_batch = train_data.batch(batch_size).repeat(epochs)\n",
    "\n",
    "# Interval for showing the training status.\n",
    "display_step = 300\n",
    "\n",
    "# Run training for the given number of steps.\n",
    "for step, (batch_x, batch_y) in enumerate(training_batch, 1):\n",
    "    # Run the optimization to update W and b values.\n",
    "    # Wrap computation inside a GradientTape for automatic differentiation.\n",
    "    with tf.GradientTape() as g:\n",
    "        pred = logistic_regression(batch_x)\n",
    "        loss = cross_entropy(pred, batch_y)\n",
    "\n",
    "    # Compute gradients.\n",
    "    trainable_variables = [W, b]\n",
    "    gradients = g.gradient(loss, trainable_variables)\n",
    "    \n",
    "    # Update W and b following gradients.\n",
    "    optimizer.apply_gradients(zip(gradients, trainable_variables))\n",
    "    \n",
    "    if step % display_step == 0:\n",
    "        pred = logistic_regression(x_test)\n",
    "        acc = accuracy(pred,y_test)\n",
    "        loss = cross_entropy(pred, y_test)\n",
    "        print(\"stpe: %i, loss: %.4f, acc: %.4f\" % (step , loss, acc))"
   ]
  },
  {
   "cell_type": "code",
   "execution_count": 12,
   "metadata": {},
   "outputs": [
    {
     "name": "stdout",
     "output_type": "stream",
     "text": [
      "Test Accuracy: 0.905400\n"
     ]
    }
   ],
   "source": [
    "pred = logistic_regression(x_test)\n",
    "print(\"Test Accuracy: %f\" % accuracy(pred, y_test))"
   ]
  },
  {
   "cell_type": "markdown",
   "metadata": {},
   "source": [
    "#### 결과 시각화"
   ]
  },
  {
   "cell_type": "code",
   "execution_count": 13,
   "metadata": {},
   "outputs": [
    {
     "data": {
      "image/png": "[encoded data removed]",
      "text/plain": [
       "<Figure size 432x288 with 1 Axes>"
      ]
     },
     "metadata": {
      "needs_background": "light"
     },
     "output_type": "display_data"
    },
    {
     "data": {
      "image/png": "[encoded data removed]",
      "text/plain": [
       "<Figure size 432x288 with 1 Axes>"
      ]
     },
     "metadata": {
      "needs_background": "light"
     },
     "output_type": "display_data"
    },
    {
     "data": {
      "image/png": "[encoded data removed]",
      "text/plain": [
       "<Figure size 432x288 with 1 Axes>"
      ]
     },
     "metadata": {
      "needs_background": "light"
     },
     "output_type": "display_data"
    },
    {
     "data": {
      "image/png": "[encoded data removed]",
      "text/plain": [
       "<Figure size 432x288 with 1 Axes>"
      ]
     },
     "metadata": {
      "needs_background": "light"
     },
     "output_type": "display_data"
    },
    {
     "data": {
      "image/png": "[encoded data removed]",
      "text/plain": [
       "<Figure size 432x288 with 1 Axes>"
      ]
     },
     "metadata": {
      "needs_background": "light"
     },
     "output_type": "display_data"
    }
   ],
   "source": [
    "import matplotlib.pyplot as plt\n",
    "%matplotlib inline\n",
    "\n",
    "\n",
    "\n",
    "# Predict 5 images from validation set.\n",
    "n_images = 5\n",
    "test_images = x_test[:n_images,]\n",
    "predictions = logistic_regression(test_images)\n",
    "# Display image and model prediction.\n",
    "for i in range(n_images):\n",
    "    title = \"Model prediction: %i\" % np.argmax(predictions.numpy()[i,])\n",
    "    plt.imshow(np.reshape(test_images[i], [28, 28]), cmap='gray')\n",
    "    plt.title(title)\n",
    "    plt.show()"
   ]
  },
  {
   "cell_type": "markdown",
   "metadata": {},
   "source": [
    "# Keras를 사용한 로지스틱 회귀"
   ]
  },
  {
   "cell_type": "code",
   "execution_count": 14,
   "metadata": {},
   "outputs": [],
   "source": [
    "# Resets graph identifiers.\n",
    "tf.keras.backend.reset_uids()\n",
    "from tensorflow.keras import layers, Sequential"
   ]
  },
  {
   "cell_type": "markdown",
   "metadata": {},
   "source": [
    "#### 로지스틱 회귀 레이어"
   ]
  },
  {
   "cell_type": "code",
   "execution_count": 15,
   "metadata": {},
   "outputs": [
    {
     "name": "stdout",
     "output_type": "stream",
     "text": [
      "Model: \"sequential\"\n",
      "_________________________________________________________________\n",
      "Layer (type)                 Output Shape              Param #   \n",
      "=================================================================\n",
      "dense (Dense)                multiple                  7850      \n",
      "=================================================================\n",
      "Total params: 7,850\n",
      "Trainable params: 7,850\n",
      "Non-trainable params: 0\n",
      "_________________________________________________________________\n"
     ]
    }
   ],
   "source": [
    "# logistic_regression = layers.Dense(num_classes, activation='softmax') \n",
    "logistic_regression = Sequential([\n",
    "    layers.Dense(num_classes, activation='softmax')])\n",
    "logistic_regression.build(input_shape=(None, num_features))\n",
    "logistic_regression.summary()"
   ]
  },
  {
   "cell_type": "code",
   "execution_count": 16,
   "metadata": {},
   "outputs": [
    {
     "name": "stdout",
     "output_type": "stream",
     "text": [
      "stpe: 300, loss: 24273.1641, acc: 0.8128\n",
      "stpe: 600, loss: 24267.4492, acc: 0.8136\n",
      "stpe: 900, loss: 4256.1865, acc: 0.8926\n",
      "stpe: 1200, loss: 4122.3330, acc: 0.8974\n",
      "stpe: 1500, loss: 4035.5779, acc: 0.8985\n",
      "stpe: 1800, loss: 3963.5083, acc: 0.8997\n",
      "stpe: 2100, loss: 3917.3511, acc: 0.9006\n",
      "stpe: 2400, loss: 3890.8721, acc: 0.9015\n",
      "stpe: 2700, loss: 3869.1899, acc: 0.9012\n",
      "stpe: 3000, loss: 3851.7209, acc: 0.9019\n",
      "stpe: 3300, loss: 3837.4302, acc: 0.9023\n",
      "stpe: 3600, loss: 3825.6274, acc: 0.9025\n",
      "stpe: 3900, loss: 3815.7935, acc: 0.9028\n",
      "stpe: 4200, loss: 3807.5269, acc: 0.9035\n",
      "stpe: 4500, loss: 3800.5474, acc: 0.9038\n",
      "stpe: 4800, loss: 3796.2227, acc: 0.9040\n",
      "stpe: 5100, loss: 3792.0808, acc: 0.9044\n",
      "stpe: 5400, loss: 3788.4426, acc: 0.9042\n",
      "stpe: 5700, loss: 3785.3525, acc: 0.9045\n",
      "stpe: 6000, loss: 3782.7778, acc: 0.9045\n",
      "stpe: 6300, loss: 3780.6707, acc: 0.9048\n",
      "stpe: 6600, loss: 3778.9800, acc: 0.9051\n",
      "stpe: 6900, loss: 3777.6567, acc: 0.9052\n",
      "stpe: 7200, loss: 3776.6558, acc: 0.9053\n",
      "stpe: 7500, loss: 3775.9370, acc: 0.9055\n",
      "stpe: 7800, loss: 3775.4648, acc: 0.9058\n",
      "stpe: 8100, loss: 3775.2080, acc: 0.9058\n",
      "stpe: 8400, loss: 3775.1377, acc: 0.9060\n",
      "stpe: 8700, loss: 3775.2300, acc: 0.9061\n",
      "stpe: 9000, loss: 3775.4661, acc: 0.9060\n",
      "stpe: 9300, loss: 3775.8264, acc: 0.9062\n",
      "stpe: 9600, loss: 3776.2954, acc: 0.9060\n",
      "Test Accuracy: 0.906000\n"
     ]
    }
   ],
   "source": [
    "#test로스를 최소화 하는 w,b 찾기\n",
    "epochs = 32\n",
    "batch_size = 200\n",
    "learning_rate = 0.01\n",
    "optimizer = tf.optimizers.SGD(learning_rate)\n",
    "\n",
    "train_data = tf.data.Dataset.from_tensor_slices((x_train,y_train))\n",
    "training_batch = train_data.batch(batch_size).repeat(epochs)\n",
    "\n",
    "\n",
    "# Interval for showing the training status.\n",
    "display_step = 300\n",
    "\n",
    "# Run training for the given number of steps.\n",
    "for step, (batch_x, batch_y) in enumerate(training_batch, 1):\n",
    "    # Run the optimization to update W and b values.\n",
    "    # Wrap computation inside a GradientTape for automatic differentiation.\n",
    "    with tf.GradientTape() as g:\n",
    "        pred = logistic_regression(batch_x)\n",
    "        loss = cross_entropy(pred, batch_y)\n",
    "\n",
    "    # Compute gradients.\n",
    "    gradients = g.gradient(loss, logistic_regression.trainable_variables)\n",
    "    \n",
    "    # Update W and b following gradients.\n",
    "    optimizer.apply_gradients(zip(gradients, logistic_regression.trainable_variables))\n",
    "    \n",
    "    if step % display_step == 0:\n",
    "        pred = logistic_regression(x_test)\n",
    "        acc = accuracy(pred,y_test)\n",
    "        loss = cross_entropy(pred, y_test)\n",
    "        print(\"stpe: %i, loss: %.4f, acc: %.4f\" % (step , loss, acc))\n",
    "\n",
    "\n",
    "# Accuracy\n",
    "pred = logistic_regression(x_test)\n",
    "print(\"Test Accuracy: %f\" % accuracy(pred, y_test))"
   ]
  }
 ],
 "metadata": {
  "kernelspec": {
   "display_name": "Python 3",
   "language": "python",
   "name": "python3"
  },
  "language_info": {
   "codemirror_mode": {
    "name": "ipython",
    "version": 3
   },
   "file_extension": ".py",
   "mimetype": "text/x-python",
   "name": "python",
   "nbconvert_exporter": "python",
   "pygments_lexer": "ipython3",
   "version": "3.7.3"
  }
 },
 "nbformat": 4,
 "nbformat_minor": 2
}
