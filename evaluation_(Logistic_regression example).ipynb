{
 "cells": [
  {
   "cell_type": "code",
   "execution_count": 1,
   "metadata": {},
   "outputs": [],
   "source": [
    "import numpy as np\n",
    "import pandas as pd\n",
    "import matplotlib.pyplot as plt\n",
    "%matplotlib inline\n",
    "\n",
    "from sklearn.model_selection import train_test_split\n",
    "from sklearn.metrics import accuracy_score, precision_score, recall_score, roc_auc_score\n",
    "from sklearn.metrics import f1_score, confusion_matrix, precision_recall_curve, roc_curve, auc\n",
    "from sklearn.preprocessing import StandardScaler\n",
    "from sklearn. linear_model import LogisticRegression"
   ]
  },
  {
   "cell_type": "code",
   "execution_count": 2,
   "metadata": {},
   "outputs": [
    {
     "name": "stdout",
     "output_type": "stream",
     "text": [
      "   Pregnancies  Glucose  BloodPressure  SkinThickness  Insulin   BMI  DiabetesPedigreeFunction  Age  Outcome\n",
      "0          6        148         72             35            0  33.6      0.627                  50        1\n",
      "1          1         85         66             29            0  26.6      0.351                  31        0\n",
      "2          8        183         64              0            0  23.3      0.672                  32        1\n",
      "<class 'pandas.core.frame.DataFrame'>\n",
      "RangeIndex: 768 entries, 0 to 767\n",
      "Data columns (total 9 columns):\n",
      "Pregnancies                 768 non-null int64\n",
      "Glucose                     768 non-null int64\n",
      "BloodPressure               768 non-null int64\n",
      "SkinThickness               768 non-null int64\n",
      "Insulin                     768 non-null int64\n",
      "BMI                         768 non-null float64\n",
      "DiabetesPedigreeFunction    768 non-null float64\n",
      "Age                         768 non-null int64\n",
      "Outcome                     768 non-null int64\n",
      "dtypes: float64(2), int64(7)\n",
      "memory usage: 54.1 KB\n",
      "None\n",
      "0    500\n",
      "1    268\n",
      "Name: Outcome, dtype: int64\n"
     ]
    }
   ],
   "source": [
    "#데이터\n",
    "pd.set_option('display.width',1000)\n",
    "pd.set_option('display.max_colwidth',10)\n",
    "pd.set_option('display.max_rows',10)\n",
    "\n",
    "diabetes_df = pd.read_csv(r'C:\\Users\\kis91\\Desktop\\python study\\data\\diabetes.csv')\n",
    "\n",
    "\n",
    "print(diabetes_df.head(3))\n",
    "print(diabetes_df.info())\n",
    "\n",
    "x = diabetes_df.iloc[:,:-1]\n",
    "y = diabetes_df.iloc[:,-1]\n",
    "print(y.value_counts())\n",
    "x_train,x_test,y_train,y_test = train_test_split(x,y,test_size=0.2,random_state=156,stratify=y)"
   ]
  },
  {
   "cell_type": "code",
   "execution_count": 3,
   "metadata": {},
   "outputs": [
    {
     "name": "stdout",
     "output_type": "stream",
     "text": [
      "confusion matrix : \n",
      " [[87 13]\n",
      " [22 32]]\n",
      "accuracy : 0.7727\n",
      "precision : 0.7111\n",
      "recall : 0.5926\n",
      "f1 : 0.6465\n",
      "auc : 0.8083\n",
      "auc : 0.8083\n"
     ]
    },
    {
     "name": "stderr",
     "output_type": "stream",
     "text": [
      "C:\\Users\\kis91\\Anaconda3\\lib\\site-packages\\sklearn\\linear_model\\logistic.py:433: FutureWarning: Default solver will be changed to 'lbfgs' in 0.22. Specify a solver to silence this warning.\n",
      "  FutureWarning)\n"
     ]
    }
   ],
   "source": [
    "#Logistic regression\n",
    "\n",
    "lr_clf = LogisticRegression()\n",
    "lr_clf.fit(x_train,y_train)\n",
    "pred = lr_clf.predict(x_test)\n",
    "prob = lr_clf.predict_proba(x_test)\n",
    "fprs,tprs,threshold = roc_curve(y_test,prob[:,1])\n",
    "\n",
    "#평가\n",
    "print('confusion matrix : \\n',confusion_matrix(y_test,pred))\n",
    "print('accuracy :',np.round(accuracy_score(y_test,pred),4))\n",
    "print('precision :',np.round(precision_score(y_test,pred),4))\n",
    "print('recall :',np.round(recall_score(y_test,pred),4))\n",
    "print('f1 :',np.round(f1_score(y_test,pred),4))\n",
    "print('auc :',np.round(auc(fprs,tprs),4))\n",
    "print('auc :',np.round(roc_auc_score(y_test,prob[:,1]),4))"
   ]
  },
  {
   "cell_type": "code",
   "execution_count": 4,
   "metadata": {},
   "outputs": [
    {
     "data": {
      "image/png": "[encoded data removed]",
      "text/plain": [
       "<Figure size 432x288 with 1 Axes>"
      ]
     },
     "metadata": {
      "needs_background": "light"
     },
     "output_type": "display_data"
    }
   ],
   "source": [
    "#precision - recall plot\n",
    "\n",
    "precisions, recalls, thresholds = precision_recall_curve(y_test,prob[:,1])\n",
    "threshold_boundary = thresholds.shape[0]\n",
    "plt.plot(thresholds, precisions[0:threshold_boundary], linestyle='--', label='precision')\n",
    "plt.plot(thresholds, recalls[0:threshold_boundary], label='recalls')\n",
    "plt.xticks(np.round(np.arange(0.07,1,0.1),2))\n",
    "plt.yticks(np.round(np.arange(0,1.1,0.1),2))\n",
    "plt.xlabel('Thresholds');plt.ylabel('Precision and Recall')\n",
    "plt.grid()\n",
    "plt.legend()\n",
    "plt.show()"
   ]
  },
  {
   "cell_type": "code",
   "execution_count": 5,
   "metadata": {},
   "outputs": [
    {
     "name": "stdout",
     "output_type": "stream",
     "text": [
      "confusion matrix : \n",
      " [[83 17]\n",
      " [17 37]]\n",
      "accuracy : 0.7792\n",
      "precision : 0.6852\n",
      "recall : 0.6852\n",
      "f1 : 0.6852\n",
      "auc : 0.8083\n",
      "auc : 0.8083\n"
     ]
    }
   ],
   "source": [
    "#임계값을 0.42로 바꾸기\n",
    "from sklearn.preprocessing import Binarizer\n",
    "binarizer = Binarizer(threshold=0.42).fit(prob[:,1].reshape(-1,1))\n",
    "new_pred = binarizer.transform(prob[:,1].reshape(-1,1))\n",
    "\n",
    "#새로운 임계값으로 평가\n",
    "print('confusion matrix : \\n',confusion_matrix(y_test,new_pred))\n",
    "print('accuracy :',np.round(accuracy_score(y_test,new_pred),4))\n",
    "print('precision :',np.round(precision_score(y_test,new_pred),4))\n",
    "print('recall :',np.round(recall_score(y_test,new_pred),4))\n",
    "print('f1 :',np.round(f1_score(y_test,new_pred),4))\n",
    "print('auc :',np.round(auc(fprs,tprs),4))\n",
    "print('auc :',np.round(roc_auc_score(y_test,prob[:,1]),4))"
   ]
  },
  {
   "cell_type": "code",
   "execution_count": 6,
   "metadata": {},
   "outputs": [
    {
     "data": {
      "image/png": "[encoded data removed]",
      "text/plain": [
       "<Figure size 576x432 with 5 Axes>"
      ]
     },
     "metadata": {
      "needs_background": "light"
     },
     "output_type": "display_data"
    },
    {
     "name": "stdout",
     "output_type": "stream",
     "text": [
      "['Glucose', 'BloodPressure', 'SkinThickness', 'Insulin', 'BMI'] \n",
      "0인 건수 5 \n",
      "0인 비율 0.651 \n",
      "\n",
      "['Glucose', 'BloodPressure', 'SkinThickness', 'Insulin', 'BMI'] \n",
      "0인 건수 35 \n",
      "0인 비율 4.557 \n",
      "\n",
      "['Glucose', 'BloodPressure', 'SkinThickness', 'Insulin', 'BMI'] \n",
      "0인 건수 227 \n",
      "0인 비율 29.557 \n",
      "\n",
      "['Glucose', 'BloodPressure', 'SkinThickness', 'Insulin', 'BMI'] \n",
      "0인 건수 374 \n",
      "0인 비율 48.698 \n",
      "\n",
      "['Glucose', 'BloodPressure', 'SkinThickness', 'Insulin', 'BMI'] \n",
      "0인 건수 11 \n",
      "0인 비율 1.432 \n",
      "\n",
      "confusion matrix : \n",
      " [[90 10]\n",
      " [21 33]]\n",
      "accuracy : 0.7987\n",
      "precision : 0.7674\n",
      "recall : 0.6111\n",
      "f1 : 0.6804\n",
      "auc : 0.8059\n",
      "auc : 0.8059\n",
      "\n",
      "threshold : 0.3\n",
      "accuracy : 0.7078 precision : 0.5616 recall : 0.7593 f1 : 0.6457\n",
      "\n",
      "threshold : 0.32\n",
      "accuracy : 0.7143 precision : 0.5735 recall : 0.7222 f1 : 0.6393\n",
      "\n",
      "threshold : 0.34\n",
      "accuracy : 0.7273 precision : 0.5968 recall : 0.6852 f1 : 0.6379\n",
      "\n",
      "threshold : 0.36000000000000004\n",
      "accuracy : 0.7273 precision : 0.6 recall : 0.6667 f1 : 0.6316\n",
      "\n",
      "threshold : 0.38000000000000006\n",
      "accuracy : 0.7403 precision : 0.625 recall : 0.6481 f1 : 0.6364\n",
      "\n",
      "threshold : 0.4000000000000001\n",
      "accuracy : 0.7532 precision : 0.6481 recall : 0.6481 f1 : 0.6481\n",
      "\n",
      "threshold : 0.4200000000000001\n",
      "accuracy : 0.7468 precision : 0.6415 recall : 0.6296 f1 : 0.6355\n",
      "\n",
      "threshold : 0.4400000000000001\n",
      "accuracy : 0.7597 precision : 0.6667 recall : 0.6296 f1 : 0.6476\n",
      "\n",
      "threshold : 0.46000000000000013\n",
      "accuracy : 0.7727 precision : 0.6939 recall : 0.6296 f1 : 0.6602\n",
      "\n",
      "threshold : 0.48000000000000015\n",
      "accuracy : 0.7857 precision : 0.7333 recall : 0.6111 f1 : 0.6667\n",
      "\n",
      "threshold : 0.5000000000000002\n",
      "accuracy : 0.7987 precision : 0.7674 recall : 0.6111 f1 : 0.6804\n",
      "\n",
      "threshold : 0.5200000000000002\n",
      "accuracy : 0.7987 precision : 0.7805 recall : 0.5926 f1 : 0.6737\n"
     ]
    },
    {
     "name": "stderr",
     "output_type": "stream",
     "text": [
      "C:\\Users\\kis91\\Anaconda3\\lib\\site-packages\\sklearn\\preprocessing\\data.py:625: DataConversionWarning: Data with input dtype int64, float64 were all converted to float64 by StandardScaler.\n",
      "  return self.partial_fit(X, y)\n",
      "C:\\Users\\kis91\\Anaconda3\\lib\\site-packages\\sklearn\\base.py:462: DataConversionWarning: Data with input dtype int64, float64 were all converted to float64 by StandardScaler.\n",
      "  return self.fit(X, **fit_params).transform(X)\n",
      "C:\\Users\\kis91\\Anaconda3\\lib\\site-packages\\sklearn\\linear_model\\logistic.py:433: FutureWarning: Default solver will be changed to 'lbfgs' in 0.22. Specify a solver to silence this warning.\n",
      "  FutureWarning)\n"
     ]
    }
   ],
   "source": [
    "#성능이 좋지 않아 데이터 다시 탐색\n",
    "plt.figure(figsize=(8,6))\n",
    "plt.subplot(231)\n",
    "plt.hist(diabetes_df['Glucose'],bins=10)\n",
    "plt.subplot(232)\n",
    "plt.hist(diabetes_df['BloodPressure'],bins=10)\n",
    "plt.subplot(233)\n",
    "plt.hist(diabetes_df['SkinThickness'],bins=10)\n",
    "plt.subplot(234)\n",
    "plt.hist(diabetes_df['Insulin'],bins=10)\n",
    "plt.subplot(235)\n",
    "plt.hist(diabetes_df['BMI'],bins=10)\n",
    "plt.show()\n",
    "\n",
    "\n",
    "\n",
    "features = ['Glucose','BloodPressure','SkinThickness','Insulin','BMI']\n",
    "for i in features:\n",
    "    a = diabetes_df[i][diabetes_df[i]==0].count()\n",
    "    b = diabetes_df[i].count()\n",
    "    print(features,'\\n0인 건수',a,'\\n0인 비율',np.round(a/b*100,3),'\\n')\n",
    "\n",
    "#위의 피쳐들의 0값을 평균으로 대체\n",
    "mean_zero_features = diabetes_df[features].mean()\n",
    "diabetes_df[features] = diabetes_df[features].replace(0,mean_zero_features)\n",
    "\n",
    "#data scalering\n",
    "scaler = StandardScaler()\n",
    "x_scaled = scaler.fit_transform(x)\n",
    "x_train,x_test,y_train,y_test = train_test_split(x_scaled,y,test_size=0.2,random_state=156,stratify=y)\n",
    "\n",
    "#Logistic regression\n",
    "lr_clf = LogisticRegression()\n",
    "lr_clf.fit(x_train,y_train)\n",
    "pred = lr_clf.predict(x_test)\n",
    "prob = lr_clf.predict_proba(x_test)\n",
    "fprs,tprs,threshold = roc_curve(y_test,prob[:,1])\n",
    "\n",
    "#평가\n",
    "print('confusion matrix : \\n',confusion_matrix(y_test,pred))\n",
    "print('accuracy :',np.round(accuracy_score(y_test,pred),4))\n",
    "print('precision :',np.round(precision_score(y_test,pred),4))\n",
    "print('recall :',np.round(recall_score(y_test,pred),4))\n",
    "print('f1 :',np.round(f1_score(y_test,pred),4))\n",
    "print('auc :',np.round(auc(fprs,tprs),4))\n",
    "print('auc :',np.round(roc_auc_score(y_test,prob[:,1]),4))\n",
    "\n",
    "#평가함수\n",
    "def eval_fun(y_test,pred):\n",
    "    print('accuracy :',np.round(accuracy_score(y_test,pred),4),'precision :',np.round(precision_score(y_test,pred),4),\n",
    "        'recall :',np.round(recall_score(y_test,pred),4),'f1 :',np.round(f1_score(y_test,pred),4), )\n",
    "\n",
    "\n",
    "#새로운 임계값으로 평가\n",
    "thr = np.arange(0.3,0.52,0.02)\n",
    "for i in thr:\n",
    "    print('\\nthreshold :',i)\n",
    "    binarizer = Binarizer(threshold=i).fit(prob[:,1].reshape(-1,1))\n",
    "    new_pred = binarizer.transform(prob[:,1].reshape(-1,1))\n",
    "    eval_fun(y_test,new_pred)\n"
   ]
  }
 ],
 "metadata": {
  "kernelspec": {
   "display_name": "Python 3",
   "language": "python",
   "name": "python3"
  },
  "language_info": {
   "codemirror_mode": {
    "name": "ipython",
    "version": 3
   },
   "file_extension": ".py",
   "mimetype": "text/x-python",
   "name": "python",
   "nbconvert_exporter": "python",
   "pygments_lexer": "ipython3",
   "version": "3.7.1"
  }
 },
 "nbformat": 4,
 "nbformat_minor": 2
}
