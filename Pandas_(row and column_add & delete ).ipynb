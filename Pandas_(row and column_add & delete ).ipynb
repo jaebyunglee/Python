{
 "cells": [
  {
   "cell_type": "code",
   "execution_count": 1,
   "metadata": {},
   "outputs": [],
   "source": [
    "import numpy as np\n",
    "import pandas as pd"
   ]
  },
  {
   "cell_type": "code",
   "execution_count": 2,
   "metadata": {
    "scrolled": true
   },
   "outputs": [
    {
     "data": {
      "text/html": [
       "<div>\n",
       "<style scoped>\n",
       "    .dataframe tbody tr th:only-of-type {\n",
       "        vertical-align: middle;\n",
       "    }\n",
       "\n",
       "    .dataframe tbody tr th {\n",
       "        vertical-align: top;\n",
       "    }\n",
       "\n",
       "    .dataframe thead th {\n",
       "        text-align: right;\n",
       "    }\n",
       "</style>\n",
       "<table border=\"1\" class=\"dataframe\">\n",
       "  <thead>\n",
       "    <tr style=\"text-align: right;\">\n",
       "      <th></th>\n",
       "      <th>PassengerId</th>\n",
       "      <th>Survived</th>\n",
       "      <th>Pclass</th>\n",
       "      <th>Name</th>\n",
       "      <th>Sex</th>\n",
       "      <th>Age</th>\n",
       "      <th>SibSp</th>\n",
       "      <th>Parch</th>\n",
       "      <th>Ticket</th>\n",
       "      <th>Fare</th>\n",
       "      <th>Cabin</th>\n",
       "      <th>Embarked</th>\n",
       "    </tr>\n",
       "  </thead>\n",
       "  <tbody>\n",
       "    <tr>\n",
       "      <th>0</th>\n",
       "      <td>1</td>\n",
       "      <td>0</td>\n",
       "      <td>3</td>\n",
       "      <td>Braund...</td>\n",
       "      <td>male</td>\n",
       "      <td>22.0</td>\n",
       "      <td>1</td>\n",
       "      <td>0</td>\n",
       "      <td>A/5 21171</td>\n",
       "      <td>7.2500</td>\n",
       "      <td>NaN</td>\n",
       "      <td>S</td>\n",
       "    </tr>\n",
       "    <tr>\n",
       "      <th>1</th>\n",
       "      <td>2</td>\n",
       "      <td>1</td>\n",
       "      <td>1</td>\n",
       "      <td>Cuming...</td>\n",
       "      <td>female</td>\n",
       "      <td>38.0</td>\n",
       "      <td>1</td>\n",
       "      <td>0</td>\n",
       "      <td>PC 17599</td>\n",
       "      <td>71.2833</td>\n",
       "      <td>C85</td>\n",
       "      <td>C</td>\n",
       "    </tr>\n",
       "    <tr>\n",
       "      <th>2</th>\n",
       "      <td>3</td>\n",
       "      <td>1</td>\n",
       "      <td>3</td>\n",
       "      <td>Heikki...</td>\n",
       "      <td>female</td>\n",
       "      <td>26.0</td>\n",
       "      <td>0</td>\n",
       "      <td>0</td>\n",
       "      <td>STON/O...</td>\n",
       "      <td>7.9250</td>\n",
       "      <td>NaN</td>\n",
       "      <td>S</td>\n",
       "    </tr>\n",
       "  </tbody>\n",
       "</table>\n",
       "</div>"
      ],
      "text/plain": [
       "   PassengerId  Survived  Pclass       Name     Sex   Age  SibSp  Parch     Ticket     Fare Cabin Embarked\n",
       "0          1           0       3  Braund...    male  22.0      1      0  A/5 21171   7.2500   NaN        S\n",
       "1          2           1       1  Cuming...  female  38.0      1      0   PC 17599  71.2833   C85        C\n",
       "2          3           1       3  Heikki...  female  26.0      0      0  STON/O...   7.9250   NaN        S"
      ]
     },
     "execution_count": 2,
     "metadata": {},
     "output_type": "execute_result"
    }
   ],
   "source": [
    "pd.set_option('display.width',1000)\n",
    "pd.set_option('display.max_colwidth',10)\n",
    "titanic_df = pd.read_csv(r'C:\\Users\\kis91\\Desktop\\python study\\data\\titanic\\titanic_train.csv')\n",
    "titanic_df.head(3)"
   ]
  },
  {
   "cell_type": "code",
   "execution_count": 3,
   "metadata": {},
   "outputs": [
    {
     "name": "stdout",
     "output_type": "stream",
     "text": [
      "칼럼 추가\n",
      "    PassengerId  Survived  Pclass       Name     Sex   Age  SibSp  Parch     Ticket     Fare Cabin Embarked  Age_0\n",
      "0          1           0       3  Braund...    male  22.0      1      0  A/5 21171   7.2500   NaN        S      0\n",
      "1          2           1       1  Cuming...  female  38.0      1      0   PC 17599  71.2833   C85        C      0\n",
      "2          3           1       3  Heikki...  female  26.0      0      0  STON/O...   7.9250   NaN        S      0\n",
      "칼럼 추가\n",
      "    PassengerId  Survived  Pclass       Name     Sex   Age  SibSp  Parch     Ticket     Fare Cabin Embarked  Age_0  Age_by_10  Family_No\n",
      "0          1           0       3  Braund...    male  22.0      1      0  A/5 21171   7.2500   NaN        S      0      220.0          2\n",
      "1          2           1       1  Cuming...  female  38.0      1      0   PC 17599  71.2833   C85        C      0      380.0          2\n",
      "2          3           1       3  Heikki...  female  26.0      0      0  STON/O...   7.9250   NaN        S      0      260.0          1\n"
     ]
    }
   ],
   "source": [
    "#칼럼추가\n",
    "\n",
    "titanic_df['Age_0'] = 0\n",
    "print('칼럼 추가\\n',titanic_df.head(3))\n",
    "\n",
    "\n",
    "titanic_df['Age_by_10'] = titanic_df['Age']*10\n",
    "titanic_df['Family_No'] = titanic_df['SibSp'] + titanic_df['Parch']+1\n",
    "print('칼럼 추가\\n',titanic_df.head(3))"
   ]
  },
  {
   "cell_type": "code",
   "execution_count": 4,
   "metadata": {},
   "outputs": [
    {
     "name": "stdout",
     "output_type": "stream",
     "text": [
      "inplace가 False이면 원래 데이터는 그대로\n",
      "    PassengerId  Survived  Pclass       Name     Sex   Age  SibSp  Parch     Ticket     Fare Cabin Embarked  Age_by_10  Family_No\n",
      "0          1           0       3  Braund...    male  22.0      1      0  A/5 21171   7.2500   NaN        S      220.0          2\n",
      "1          2           1       1  Cuming...  female  38.0      1      0   PC 17599  71.2833   C85        C      380.0          2\n",
      "2          3           1       3  Heikki...  female  26.0      0      0  STON/O...   7.9250   NaN        S      260.0          1 \n",
      "원래 데이터\n",
      "   PassengerId  Survived  Pclass       Name     Sex   Age  SibSp  Parch     Ticket     Fare Cabin Embarked  Age_0  Age_by_10  Family_No\n",
      "0          1           0       3  Braund...    male  22.0      1      0  A/5 21171   7.2500   NaN        S      0      220.0          2\n",
      "1          2           1       1  Cuming...  female  38.0      1      0   PC 17599  71.2833   C85        C      0      380.0          2\n",
      "2          3           1       3  Heikki...  female  26.0      0      0  STON/O...   7.9250   NaN        S      0      260.0          1\n",
      "inplace가 True이면 원래 데이터에서 제거\n",
      " None \\원래 데이터\n",
      "   PassengerId  Survived  Pclass       Name     Sex   Age  SibSp  Parch     Ticket     Fare Cabin Embarked\n",
      "0          1           0       3  Braund...    male  22.0      1      0  A/5 21171   7.2500   NaN        S\n",
      "1          2           1       1  Cuming...  female  38.0      1      0   PC 17599  71.2833   C85        C\n",
      "2          3           1       3  Heikki...  female  26.0      0      0  STON/O...   7.9250   NaN        S\n"
     ]
    }
   ],
   "source": [
    "# 칼럼삭제\n",
    "\n",
    "titanic_drop_df = titanic_df.drop('Age_0',axis=1,inplace=False)\n",
    "print('inplace가 False이면 원래 데이터는 그대로\\n',titanic_drop_df.head(3),'\\n원래 데이터')\n",
    "print(titanic_df.head(3))\n",
    "\n",
    "drop_result = titanic_df.drop(['Age_0','Age_by_10','Family_No'],axis=1,inplace=True)\n",
    "print('inplace가 True이면 원래 데이터에서 제거\\n',drop_result,'\\원래 데이터')\n",
    "print(titanic_df.head(3))"
   ]
  },
  {
   "cell_type": "code",
   "execution_count": 5,
   "metadata": {},
   "outputs": [
    {
     "name": "stdout",
     "output_type": "stream",
     "text": [
      "원래 데이터\n",
      "    PassengerId  Survived  Pclass       Name     Sex   Age  SibSp  Parch     Ticket     Fare Cabin Embarked\n",
      "0          1           0       3  Braund...    male  22.0      1      0  A/5 21171   7.2500   NaN        S\n",
      "1          2           1       1  Cuming...  female  38.0      1      0   PC 17599  71.2833   C85        C\n",
      "2          3           1       3  Heikki...  female  26.0      0      0  STON/O...   7.9250   NaN        S\n",
      "행 삭제된 데이터\n",
      "    PassengerId  Survived  Pclass       Name     Sex   Age  SibSp  Parch  Ticket     Fare Cabin Embarked\n",
      "3          4           1       1  Futrel...  female  35.0      1      0  113803  53.1000  C123        S\n",
      "4          5           0       3  Allen,...    male  35.0      0      0  373450   8.0500   NaN        S\n",
      "5          6           0       3  Moran,...    male   NaN      0      0  330877   8.4583   NaN        Q\n"
     ]
    }
   ],
   "source": [
    "#행 삭제\n",
    "\n",
    "print('원래 데이터\\n',titanic_df.head(3))\n",
    "titanic_df.drop([0,1,2],axis=0,inplace=True)\n",
    "print('행 삭제된 데이터\\n',titanic_df.head(3))"
   ]
  }
 ],
 "metadata": {
  "kernelspec": {
   "display_name": "Python 3",
   "language": "python",
   "name": "python3"
  },
  "language_info": {
   "codemirror_mode": {
    "name": "ipython",
    "version": 3
   },
   "file_extension": ".py",
   "mimetype": "text/x-python",
   "name": "python",
   "nbconvert_exporter": "python",
   "pygments_lexer": "ipython3",
   "version": "3.7.1"
  }
 },
 "nbformat": 4,
 "nbformat_minor": 2
}
