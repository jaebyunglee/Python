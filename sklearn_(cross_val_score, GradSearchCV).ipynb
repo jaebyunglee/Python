{
 "cells": [
  {
   "cell_type": "code",
   "execution_count": 1,
   "metadata": {},
   "outputs": [],
   "source": [
    "import numpy as np\n",
    "import pandas as pd\n",
    "import sklearn\n",
    "from sklearn.datasets import load_iris\n",
    "from sklearn.tree import DecisionTreeClassifier\n",
    "from sklearn.metrics import accuracy_score\n",
    "from sklearn.model_selection import train_test_split\n",
    "from sklearn.model_selection import KFold\n",
    "from sklearn.model_selection import StratifiedKFold\n",
    "from sklearn.model_selection import cross_val_score, cross_validate\n",
    "from sklearn.model_selection import GridSearchCV\n",
    "from sklearn.model_selection import ShuffleSplit"
   ]
  },
  {
   "cell_type": "code",
   "execution_count": 2,
   "metadata": {},
   "outputs": [
    {
     "name": "stdout",
     "output_type": "stream",
     "text": [
      "\n",
      " 교차 검증별 정확도 : [0.9804 0.9216 0.9792]\n",
      "\n",
      " 평균 검증 정확도 : 0.9604\n",
      "\n",
      " shuffle 교차 검증별 정확도 : [0.98 0.98 0.96]\n",
      "\n",
      " shuffle 평균 검증 정확도 : 0.9733\n"
     ]
    }
   ],
   "source": [
    "# cross_val_score\n",
    "iris_data = load_iris()\n",
    "dt_clf = DecisionTreeClassifier(random_state=156)\n",
    "\n",
    "data = iris_data.data\n",
    "label = iris_data.target\n",
    "\n",
    "scores = cross_val_score(dt_clf,data,label,scoring='accuracy',cv=3)\n",
    "print('\\n 교차 검증별 정확도 :',np.around(scores,4))\n",
    "print('\\n 평균 검증 정확도 :',np.around(np.mean(scores),4))\n",
    "\n",
    "###shuffle\n",
    "cv = ShuffleSplit(n_splits=3,test_size=0.3333)\n",
    "scores1 = cross_val_score(dt_clf,data,label,scoring='accuracy',cv=cv)\n",
    "\n",
    "print('\\n shuffle 교차 검증별 정확도 :',np.around(scores1,4))\n",
    "print('\\n shuffle 평균 검증 정확도 :',np.around(np.mean(scores1),4))"
   ]
  },
  {
   "cell_type": "code",
   "execution_count": 3,
   "metadata": {},
   "outputs": [
    {
     "name": "stdout",
     "output_type": "stream",
     "text": [
      "\n",
      " best params : {'max_depth': 3, 'min_samples_split': 2}\n",
      "\n",
      " best score : 0.975\n",
      "\n",
      " best params를 사용한 최종 모형의 정확도 : 0.9666666666666667\n"
     ]
    },
    {
     "name": "stderr",
     "output_type": "stream",
     "text": [
      "C:\\Users\\kis91\\Anaconda3\\lib\\site-packages\\sklearn\\model_selection\\_search.py:841: DeprecationWarning: The default of the `iid` parameter will change from True to False in version 0.22 and will be removed in 0.24. This will change numeric results when test-set sizes are unequal.\n",
      "  DeprecationWarning)\n",
      "C:\\Users\\kis91\\Anaconda3\\lib\\site-packages\\sklearn\\utils\\deprecation.py:125: FutureWarning: You are accessing a training score ('split0_train_score'), which will not be available by default any more in 0.21. If you need training scores, please set return_train_score=True\n",
      "  warnings.warn(*warn_args, **warn_kwargs)\n",
      "C:\\Users\\kis91\\Anaconda3\\lib\\site-packages\\sklearn\\utils\\deprecation.py:125: FutureWarning: You are accessing a training score ('split1_train_score'), which will not be available by default any more in 0.21. If you need training scores, please set return_train_score=True\n",
      "  warnings.warn(*warn_args, **warn_kwargs)\n",
      "C:\\Users\\kis91\\Anaconda3\\lib\\site-packages\\sklearn\\utils\\deprecation.py:125: FutureWarning: You are accessing a training score ('split2_train_score'), which will not be available by default any more in 0.21. If you need training scores, please set return_train_score=True\n",
      "  warnings.warn(*warn_args, **warn_kwargs)\n",
      "C:\\Users\\kis91\\Anaconda3\\lib\\site-packages\\sklearn\\utils\\deprecation.py:125: FutureWarning: You are accessing a training score ('split3_train_score'), which will not be available by default any more in 0.21. If you need training scores, please set return_train_score=True\n",
      "  warnings.warn(*warn_args, **warn_kwargs)\n",
      "C:\\Users\\kis91\\Anaconda3\\lib\\site-packages\\sklearn\\utils\\deprecation.py:125: FutureWarning: You are accessing a training score ('split4_train_score'), which will not be available by default any more in 0.21. If you need training scores, please set return_train_score=True\n",
      "  warnings.warn(*warn_args, **warn_kwargs)\n",
      "C:\\Users\\kis91\\Anaconda3\\lib\\site-packages\\sklearn\\utils\\deprecation.py:125: FutureWarning: You are accessing a training score ('mean_train_score'), which will not be available by default any more in 0.21. If you need training scores, please set return_train_score=True\n",
      "  warnings.warn(*warn_args, **warn_kwargs)\n",
      "C:\\Users\\kis91\\Anaconda3\\lib\\site-packages\\sklearn\\utils\\deprecation.py:125: FutureWarning: You are accessing a training score ('std_train_score'), which will not be available by default any more in 0.21. If you need training scores, please set return_train_score=True\n",
      "  warnings.warn(*warn_args, **warn_kwargs)\n"
     ]
    }
   ],
   "source": [
    "# GridSearchCV - two class case, stratified.\n",
    "DecisionTreeClassifier?\n",
    "### Data split\n",
    "x_train,x_test,y_train,y_test = train_test_split(iris_data.data,iris_data.target,test_size=0.2,random_state=121)\n",
    "dtree = DecisionTreeClassifier()\n",
    "\n",
    "### params\n",
    "par = {'max_depth':[1,2,3],'min_samples_split':[2,3]}\n",
    "### GridSearchCV\n",
    "grid_dtree = GridSearchCV(dtree,param_grid=par,cv=5,refit=True)\n",
    "### fit\n",
    "grid_dtree.fit(x_train,y_train)\n",
    "### result\n",
    "scores_df = pd.DataFrame(grid_dtree.cv_results_)\n",
    "scores_df[['params','mean_test_score']]\n",
    "print('\\n best params :',grid_dtree.best_params_)\n",
    "print('\\n best score :',grid_dtree.best_score_)\n",
    "\n",
    "### final model\n",
    "fit_final = grid_dtree.best_estimator_\n",
    "pred = fit_final.predict(x_test)\n",
    "print('\\n best params를 사용한 최종 모형의 정확도 :',accuracy_score(pred,y_test))"
   ]
  }
 ],
 "metadata": {
  "kernelspec": {
   "display_name": "Python 3",
   "language": "python",
   "name": "python3"
  },
  "language_info": {
   "codemirror_mode": {
    "name": "ipython",
    "version": 3
   },
   "file_extension": ".py",
   "mimetype": "text/x-python",
   "name": "python",
   "nbconvert_exporter": "python",
   "pygments_lexer": "ipython3",
   "version": "3.7.1"
  }
 },
 "nbformat": 4,
 "nbformat_minor": 2
}
